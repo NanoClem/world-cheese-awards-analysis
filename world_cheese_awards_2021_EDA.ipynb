{
 "cells": [
  {
   "attachments": {},
   "cell_type": "markdown",
   "metadata": {},
   "source": [
    "# 2021 World Cheese awards analysis\n",
    "\n",
    "---\n"
   ]
  },
  {
   "attachments": {},
   "cell_type": "markdown",
   "metadata": {},
   "source": [
    "blablalblacheeseblablablablafranceblablabla\n"
   ]
  },
  {
   "attachments": {},
   "cell_type": "markdown",
   "metadata": {},
   "source": [
    "## Libraries\n"
   ]
  },
  {
   "cell_type": "code",
   "execution_count": 1,
   "metadata": {},
   "outputs": [],
   "source": [
    "import os\n",
    "\n",
    "import pandas as pd\n",
    "\n",
    "pd.set_option('display.max_columns', None)\n",
    "pd.set_option('max_colwidth', None)\n",
    "\n",
    "import matplotlib.pyplot as plt\n",
    "import seaborn as sns\n",
    "\n",
    "color_palette = ['peru', 'silver', 'khaki', 'gold']\n",
    "sns.set_style(\"darkgrid\")\n"
   ]
  },
  {
   "attachments": {},
   "cell_type": "markdown",
   "metadata": {},
   "source": [
    "## Download the datatset (Optional step)\n",
    "\n",
    "You will normaly need to run this step once.  \n",
    "I am using the `kaggle api` to get the dataset, but you can also directly download it from [here](https://www.kaggle.com/datasets/ericsims/world-cheese-awards-worlds-cheesiest-dataset?select=world_cheese_awards_2021.csv).\n",
    "\n",
    "Regardless the option you choose, the dataset path should be **_(project_root)_/data/world_cheese_awards_2021.csv**.\n"
   ]
  },
  {
   "attachments": {},
   "cell_type": "markdown",
   "metadata": {},
   "source": [
    "### 1. Reading kaggle json credentials\n",
    "\n",
    "You can go run directly 2. if you decided to put the _kaggle.json_ file under in _/home/[your_user]/.kaggle_\n"
   ]
  },
  {
   "cell_type": "code",
   "execution_count": 2,
   "metadata": {},
   "outputs": [],
   "source": [
    "import json\n"
   ]
  },
  {
   "cell_type": "code",
   "execution_count": 3,
   "metadata": {},
   "outputs": [],
   "source": [
    "with open('kaggle.json', 'r', encoding='utf-8') as kaggle_f:\n",
    "    kaggle_creds = json.load(kaggle_f)\n",
    "\n",
    "os.environ['KAGGLE_USERNAME'] = kaggle_creds['username']\n",
    "os.environ['KAGGLE_KEY'] = kaggle_creds['key']\n"
   ]
  },
  {
   "attachments": {},
   "cell_type": "markdown",
   "metadata": {},
   "source": [
    "### 2. Download dataset with kaggle sdk\n"
   ]
  },
  {
   "attachments": {},
   "cell_type": "markdown",
   "metadata": {},
   "source": [
    "After setting kaggle env vars, the kaggle library should be imported without throwing errors\n"
   ]
  },
  {
   "cell_type": "code",
   "execution_count": 4,
   "metadata": {},
   "outputs": [],
   "source": [
    "import kaggle\n",
    "\n",
    "kaggle.api.authenticate()\n"
   ]
  },
  {
   "cell_type": "code",
   "execution_count": 5,
   "metadata": {},
   "outputs": [
    {
     "data": {
      "text/plain": [
       "False"
      ]
     },
     "execution_count": 5,
     "metadata": {},
     "output_type": "execute_result"
    }
   ],
   "source": [
    "kaggle.api.dataset_download_file(\n",
    "    'ericsims/world-cheese-awards-worlds-cheesiest-dataset',\n",
    "    'world_cheese_awards_2021.csv',\n",
    "    path='data',\n",
    ")\n"
   ]
  },
  {
   "attachments": {},
   "cell_type": "markdown",
   "metadata": {},
   "source": [
    "## Import dataset\n"
   ]
  },
  {
   "cell_type": "code",
   "execution_count": 6,
   "metadata": {},
   "outputs": [],
   "source": [
    "df = pd.read_csv(\n",
    "    'data/world_cheese_awards_2021.csv', sep=',', index_col=0\n",
    ")  # first csv col is the index\n"
   ]
  },
  {
   "cell_type": "code",
   "execution_count": 7,
   "metadata": {},
   "outputs": [
    {
     "data": {
      "text/plain": [
       "(1741, 6)"
      ]
     },
     "execution_count": 7,
     "metadata": {},
     "output_type": "execute_result"
    }
   ],
   "source": [
    "df.shape\n"
   ]
  },
  {
   "cell_type": "code",
   "execution_count": 8,
   "metadata": {},
   "outputs": [
    {
     "data": {
      "text/plain": [
       "company         object\n",
       "product_name    object\n",
       "rating          object\n",
       "category        object\n",
       "country         object\n",
       "county          object\n",
       "dtype: object"
      ]
     },
     "execution_count": 8,
     "metadata": {},
     "output_type": "execute_result"
    }
   ],
   "source": [
    "df.dtypes\n"
   ]
  },
  {
   "cell_type": "code",
   "execution_count": 9,
   "metadata": {},
   "outputs": [
    {
     "data": {
      "text/html": [
       "<div>\n",
       "<style scoped>\n",
       "    .dataframe tbody tr th:only-of-type {\n",
       "        vertical-align: middle;\n",
       "    }\n",
       "\n",
       "    .dataframe tbody tr th {\n",
       "        vertical-align: top;\n",
       "    }\n",
       "\n",
       "    .dataframe thead th {\n",
       "        text-align: right;\n",
       "    }\n",
       "</style>\n",
       "<table border=\"1\" class=\"dataframe\">\n",
       "  <thead>\n",
       "    <tr style=\"text-align: right;\">\n",
       "      <th></th>\n",
       "      <th>company</th>\n",
       "      <th>product_name</th>\n",
       "      <th>rating</th>\n",
       "      <th>category</th>\n",
       "      <th>country</th>\n",
       "      <th>county</th>\n",
       "    </tr>\n",
       "  </thead>\n",
       "  <tbody>\n",
       "    <tr>\n",
       "      <th>0</th>\n",
       "      <td>Laiteries H. Triballat  Website</td>\n",
       "      <td>Picandou L'Original</td>\n",
       "      <td>GOLD</td>\n",
       "      <td>5001 - Soft goats’ milk cheese plain – fresh</td>\n",
       "      <td>France</td>\n",
       "      <td>NaN</td>\n",
       "    </tr>\n",
       "    <tr>\n",
       "      <th>1</th>\n",
       "      <td>Fromageries Lescure (Savencia)  Website</td>\n",
       "      <td>ISLOS GREEK GOAT CHEESE 150G</td>\n",
       "      <td>BRONZE</td>\n",
       "      <td>5001 - Soft goats’ milk cheese plain – fresh</td>\n",
       "      <td>Greece</td>\n",
       "      <td>NaN</td>\n",
       "    </tr>\n",
       "    <tr>\n",
       "      <th>2</th>\n",
       "      <td>Casale Roccolo azienda agricola biologica  Website</td>\n",
       "      <td>Caprino Fresco CASALE ROCCOLO</td>\n",
       "      <td>SILVER</td>\n",
       "      <td>5001 - Soft goats’ milk cheese plain – fresh</td>\n",
       "      <td>Italy</td>\n",
       "      <td>NaN</td>\n",
       "    </tr>\n",
       "    <tr>\n",
       "      <th>3</th>\n",
       "      <td>DeJong Cheese  Website</td>\n",
       "      <td>Alphenaer Crumbled Goats Cheese Natural  View  Stockists</td>\n",
       "      <td>BRONZE</td>\n",
       "      <td>5001 - Soft goats’ milk cheese plain – fresh</td>\n",
       "      <td>Netherlands</td>\n",
       "      <td>NaN</td>\n",
       "    </tr>\n",
       "    <tr>\n",
       "      <th>4</th>\n",
       "      <td>DeJong Cheese  Website</td>\n",
       "      <td>Alphenaer Spreadable Goats Cheese Natural  View  Stockists</td>\n",
       "      <td>BRONZE</td>\n",
       "      <td>5001 - Soft goats’ milk cheese plain – fresh</td>\n",
       "      <td>Netherlands</td>\n",
       "      <td>NaN</td>\n",
       "    </tr>\n",
       "  </tbody>\n",
       "</table>\n",
       "</div>"
      ],
      "text/plain": [
       "                                              company  \\\n",
       "0                     Laiteries H. Triballat  Website   \n",
       "1             Fromageries Lescure (Savencia)  Website   \n",
       "2  Casale Roccolo azienda agricola biologica  Website   \n",
       "3                              DeJong Cheese  Website   \n",
       "4                              DeJong Cheese  Website   \n",
       "\n",
       "                                                 product_name  rating  \\\n",
       "0                                         Picandou L'Original    GOLD   \n",
       "1                                ISLOS GREEK GOAT CHEESE 150G  BRONZE   \n",
       "2                               Caprino Fresco CASALE ROCCOLO  SILVER   \n",
       "3    Alphenaer Crumbled Goats Cheese Natural  View  Stockists  BRONZE   \n",
       "4  Alphenaer Spreadable Goats Cheese Natural  View  Stockists  BRONZE   \n",
       "\n",
       "                                       category      country county  \n",
       "0  5001 - Soft goats’ milk cheese plain – fresh       France    NaN  \n",
       "1  5001 - Soft goats’ milk cheese plain – fresh       Greece    NaN  \n",
       "2  5001 - Soft goats’ milk cheese plain – fresh        Italy    NaN  \n",
       "3  5001 - Soft goats’ milk cheese plain – fresh  Netherlands    NaN  \n",
       "4  5001 - Soft goats’ milk cheese plain – fresh  Netherlands    NaN  "
      ]
     },
     "execution_count": 9,
     "metadata": {},
     "output_type": "execute_result"
    }
   ],
   "source": [
    "df.head(n=5)\n"
   ]
  },
  {
   "cell_type": "code",
   "execution_count": 10,
   "metadata": {},
   "outputs": [
    {
     "data": {
      "text/html": [
       "<div>\n",
       "<style scoped>\n",
       "    .dataframe tbody tr th:only-of-type {\n",
       "        vertical-align: middle;\n",
       "    }\n",
       "\n",
       "    .dataframe tbody tr th {\n",
       "        vertical-align: top;\n",
       "    }\n",
       "\n",
       "    .dataframe thead th {\n",
       "        text-align: right;\n",
       "    }\n",
       "</style>\n",
       "<table border=\"1\" class=\"dataframe\">\n",
       "  <thead>\n",
       "    <tr style=\"text-align: right;\">\n",
       "      <th></th>\n",
       "      <th>company</th>\n",
       "      <th>product_name</th>\n",
       "      <th>rating</th>\n",
       "      <th>category</th>\n",
       "      <th>country</th>\n",
       "      <th>county</th>\n",
       "    </tr>\n",
       "  </thead>\n",
       "  <tbody>\n",
       "    <tr>\n",
       "      <th>1736</th>\n",
       "      <td>Macroom Buffalo Cheese Products  Website</td>\n",
       "      <td>Macroom Buffalo Ricotta 200g</td>\n",
       "      <td>SILVER</td>\n",
       "      <td>5709 - Ricotta made with buffalos' milk</td>\n",
       "      <td>Ireland</td>\n",
       "      <td>NaN</td>\n",
       "    </tr>\n",
       "    <tr>\n",
       "      <th>1737</th>\n",
       "      <td>Diaccialone Società Agricola  Website</td>\n",
       "      <td>Ricotta di Bufala 250g</td>\n",
       "      <td>BRONZE</td>\n",
       "      <td>5709 - Ricotta made with buffalos' milk</td>\n",
       "      <td>Italy</td>\n",
       "      <td>NaN</td>\n",
       "    </tr>\n",
       "    <tr>\n",
       "      <th>1738</th>\n",
       "      <td>Macroom Buffalo Cheese Products  Website</td>\n",
       "      <td>Macroom Buffalo Greek Style Cheese 180g</td>\n",
       "      <td>BRONZE</td>\n",
       "      <td>5710 - Any other buffalo's milk cheese not in any other class</td>\n",
       "      <td>Ireland</td>\n",
       "      <td>NaN</td>\n",
       "    </tr>\n",
       "    <tr>\n",
       "      <th>1739</th>\n",
       "      <td>CILENTO SPA  Website</td>\n",
       "      <td>Lactose free Mozzarella di Bufala Campana PDO 180g</td>\n",
       "      <td>SILVER</td>\n",
       "      <td>5710 - Any other buffalo's milk cheese not in any other class</td>\n",
       "      <td>Italy</td>\n",
       "      <td>NaN</td>\n",
       "    </tr>\n",
       "    <tr>\n",
       "      <th>1740</th>\n",
       "      <td>Quattro Portoni s.r.l. – Società Agricola  Website</td>\n",
       "      <td>QUADRELLO  View  Stockists</td>\n",
       "      <td>SILVER</td>\n",
       "      <td>5710 - Any other buffalo's milk cheese not in any other class</td>\n",
       "      <td>Italy</td>\n",
       "      <td>NaN</td>\n",
       "    </tr>\n",
       "  </tbody>\n",
       "</table>\n",
       "</div>"
      ],
      "text/plain": [
       "                                                 company  \\\n",
       "1736            Macroom Buffalo Cheese Products  Website   \n",
       "1737               Diaccialone Società Agricola  Website   \n",
       "1738            Macroom Buffalo Cheese Products  Website   \n",
       "1739                                CILENTO SPA  Website   \n",
       "1740  Quattro Portoni s.r.l. – Società Agricola  Website   \n",
       "\n",
       "                                            product_name  rating  \\\n",
       "1736                        Macroom Buffalo Ricotta 200g  SILVER   \n",
       "1737                              Ricotta di Bufala 250g  BRONZE   \n",
       "1738             Macroom Buffalo Greek Style Cheese 180g  BRONZE   \n",
       "1739  Lactose free Mozzarella di Bufala Campana PDO 180g  SILVER   \n",
       "1740                          QUADRELLO  View  Stockists  SILVER   \n",
       "\n",
       "                                                           category  country  \\\n",
       "1736                        5709 - Ricotta made with buffalos' milk  Ireland   \n",
       "1737                        5709 - Ricotta made with buffalos' milk    Italy   \n",
       "1738  5710 - Any other buffalo's milk cheese not in any other class  Ireland   \n",
       "1739  5710 - Any other buffalo's milk cheese not in any other class    Italy   \n",
       "1740  5710 - Any other buffalo's milk cheese not in any other class    Italy   \n",
       "\n",
       "     county  \n",
       "1736    NaN  \n",
       "1737    NaN  \n",
       "1738    NaN  \n",
       "1739    NaN  \n",
       "1740    NaN  "
      ]
     },
     "execution_count": 10,
     "metadata": {},
     "output_type": "execute_result"
    }
   ],
   "source": [
    "df.tail(n=5)\n"
   ]
  },
  {
   "attachments": {},
   "cell_type": "markdown",
   "metadata": {},
   "source": [
    "## Missing data\n",
    "\n",
    "Not much missing data except in _county_ column.  \n",
    "Let's keep in mind that county is applicable only when the country is UK.  \n",
    "So nothing much to fear regarding missing values, the dataset looks pretty full.\n"
   ]
  },
  {
   "cell_type": "code",
   "execution_count": 11,
   "metadata": {},
   "outputs": [
    {
     "data": {
      "text/plain": [
       "county    0.951177\n",
       "dtype: float64"
      ]
     },
     "execution_count": 11,
     "metadata": {},
     "output_type": "execute_result"
    }
   ],
   "source": [
    "per_missing = df.isna().sum() / df.shape[0]\n",
    "per_missing[per_missing > 0].sort_values(ascending=False)\n"
   ]
  },
  {
   "cell_type": "code",
   "execution_count": 12,
   "metadata": {},
   "outputs": [
    {
     "data": {
      "text/plain": [
       "Somerset             19\n",
       "Nottinghamshire       6\n",
       "West Yorkshire        6\n",
       "Leicestershire        6\n",
       "Gloucestershire       5\n",
       "Cornwall              5\n",
       "Berkshire             4\n",
       "North Yorkshire       4\n",
       "Devon                 3\n",
       "Greater London        3\n",
       "Kent                  3\n",
       "Hampshire             3\n",
       "Wiltshire             2\n",
       "Western Isles         2\n",
       "Oxfordshire           2\n",
       "Ceredigion            2\n",
       "North Ayrshire        2\n",
       "Powys                 1\n",
       "Dublin                1\n",
       "Fife                  1\n",
       "Perth and Kinross     1\n",
       "Dorset                1\n",
       "Isle of Man           1\n",
       "Lancashire            1\n",
       "West Sussex           1\n",
       "Name: county, dtype: int64"
      ]
     },
     "execution_count": 12,
     "metadata": {},
     "output_type": "execute_result"
    }
   ],
   "source": [
    "df.county.value_counts()\n"
   ]
  },
  {
   "cell_type": "code",
   "execution_count": 13,
   "metadata": {},
   "outputs": [
    {
     "data": {
      "text/plain": [
       "United Kingdom    85\n",
       "Name: country, dtype: int64"
      ]
     },
     "execution_count": 13,
     "metadata": {},
     "output_type": "execute_result"
    }
   ],
   "source": [
    "df.country[df.county.notna()].value_counts()\n"
   ]
  },
  {
   "attachments": {},
   "cell_type": "markdown",
   "metadata": {},
   "source": [
    "## Data cleaning\n"
   ]
  },
  {
   "attachments": {},
   "cell_type": "markdown",
   "metadata": {},
   "source": [
    "### Companies's name\n",
    "Removing the \"Website\" str suffix\n"
   ]
  },
  {
   "cell_type": "code",
   "execution_count": 14,
   "metadata": {},
   "outputs": [
    {
     "data": {
      "text/plain": [
       "0                        Laiteries H. Triballa\n",
       "1               Fromageries Lescure (Savencia)\n",
       "2    Casale Roccolo azienda agricola biologica\n",
       "3                                    DeJong Ch\n",
       "4                                    DeJong Ch\n",
       "Name: company, dtype: object"
      ]
     },
     "execution_count": 14,
     "metadata": {},
     "output_type": "execute_result"
    }
   ],
   "source": [
    "df.company = df.company.apply(lambda x: x.rstrip(' Website'))\n",
    "df.company.head(5)\n"
   ]
  },
  {
   "attachments": {},
   "cell_type": "markdown",
   "metadata": {},
   "source": [
    "## Feature engineering\n"
   ]
  },
  {
   "attachments": {},
   "cell_type": "markdown",
   "metadata": {},
   "source": [
    "### Separate category code and name\n"
   ]
  },
  {
   "cell_type": "code",
   "execution_count": 15,
   "metadata": {},
   "outputs": [],
   "source": [
    "def create_features(df: pd.DataFrame) -> pd.DataFrame:\n",
    "    _df = df.copy()\n",
    "    _df['cat_code'] = _df.category.apply(lambda x: x.split(' - ')[0])\n",
    "    _df.cat_code = pd.to_numeric(_df.cat_code)\n",
    "    _df.category = _df.category.apply(lambda x: x.split(' - ')[1])\n",
    "\n",
    "    return _df\n"
   ]
  },
  {
   "cell_type": "code",
   "execution_count": 16,
   "metadata": {},
   "outputs": [],
   "source": [
    "df = create_features(df)\n"
   ]
  },
  {
   "cell_type": "code",
   "execution_count": 17,
   "metadata": {},
   "outputs": [
    {
     "data": {
      "text/html": [
       "<div>\n",
       "<style scoped>\n",
       "    .dataframe tbody tr th:only-of-type {\n",
       "        vertical-align: middle;\n",
       "    }\n",
       "\n",
       "    .dataframe tbody tr th {\n",
       "        vertical-align: top;\n",
       "    }\n",
       "\n",
       "    .dataframe thead th {\n",
       "        text-align: right;\n",
       "    }\n",
       "</style>\n",
       "<table border=\"1\" class=\"dataframe\">\n",
       "  <thead>\n",
       "    <tr style=\"text-align: right;\">\n",
       "      <th></th>\n",
       "      <th>category</th>\n",
       "      <th>cat_code</th>\n",
       "    </tr>\n",
       "  </thead>\n",
       "  <tbody>\n",
       "    <tr>\n",
       "      <th>0</th>\n",
       "      <td>Soft goats’ milk cheese plain – fresh</td>\n",
       "      <td>5001</td>\n",
       "    </tr>\n",
       "    <tr>\n",
       "      <th>1</th>\n",
       "      <td>Soft goats’ milk cheese plain – fresh</td>\n",
       "      <td>5001</td>\n",
       "    </tr>\n",
       "    <tr>\n",
       "      <th>2</th>\n",
       "      <td>Soft goats’ milk cheese plain – fresh</td>\n",
       "      <td>5001</td>\n",
       "    </tr>\n",
       "    <tr>\n",
       "      <th>3</th>\n",
       "      <td>Soft goats’ milk cheese plain – fresh</td>\n",
       "      <td>5001</td>\n",
       "    </tr>\n",
       "    <tr>\n",
       "      <th>4</th>\n",
       "      <td>Soft goats’ milk cheese plain – fresh</td>\n",
       "      <td>5001</td>\n",
       "    </tr>\n",
       "    <tr>\n",
       "      <th>...</th>\n",
       "      <td>...</td>\n",
       "      <td>...</td>\n",
       "    </tr>\n",
       "    <tr>\n",
       "      <th>1736</th>\n",
       "      <td>Ricotta made with buffalos' milk</td>\n",
       "      <td>5709</td>\n",
       "    </tr>\n",
       "    <tr>\n",
       "      <th>1737</th>\n",
       "      <td>Ricotta made with buffalos' milk</td>\n",
       "      <td>5709</td>\n",
       "    </tr>\n",
       "    <tr>\n",
       "      <th>1738</th>\n",
       "      <td>Any other buffalo's milk cheese not in any other class</td>\n",
       "      <td>5710</td>\n",
       "    </tr>\n",
       "    <tr>\n",
       "      <th>1739</th>\n",
       "      <td>Any other buffalo's milk cheese not in any other class</td>\n",
       "      <td>5710</td>\n",
       "    </tr>\n",
       "    <tr>\n",
       "      <th>1740</th>\n",
       "      <td>Any other buffalo's milk cheese not in any other class</td>\n",
       "      <td>5710</td>\n",
       "    </tr>\n",
       "  </tbody>\n",
       "</table>\n",
       "<p>1741 rows × 2 columns</p>\n",
       "</div>"
      ],
      "text/plain": [
       "                                                    category  cat_code\n",
       "0                      Soft goats’ milk cheese plain – fresh      5001\n",
       "1                      Soft goats’ milk cheese plain – fresh      5001\n",
       "2                      Soft goats’ milk cheese plain – fresh      5001\n",
       "3                      Soft goats’ milk cheese plain – fresh      5001\n",
       "4                      Soft goats’ milk cheese plain – fresh      5001\n",
       "...                                                      ...       ...\n",
       "1736                        Ricotta made with buffalos' milk      5709\n",
       "1737                        Ricotta made with buffalos' milk      5709\n",
       "1738  Any other buffalo's milk cheese not in any other class      5710\n",
       "1739  Any other buffalo's milk cheese not in any other class      5710\n",
       "1740  Any other buffalo's milk cheese not in any other class      5710\n",
       "\n",
       "[1741 rows x 2 columns]"
      ]
     },
     "execution_count": 17,
     "metadata": {},
     "output_type": "execute_result"
    }
   ],
   "source": [
    "df[['category', 'cat_code']]\n"
   ]
  },
  {
   "attachments": {},
   "cell_type": "markdown",
   "metadata": {},
   "source": [
    "## Cross-referencing data : countries data\n",
    "\n",
    "Let's download a new dataset containing more informations about countries in general.  \n",
    "This will unlock new analyzis possibilities, by adding more data like continents, region, country code, etc.\n"
   ]
  },
  {
   "cell_type": "code",
   "execution_count": 18,
   "metadata": {},
   "outputs": [
    {
     "data": {
      "text/html": [
       "<div>\n",
       "<style scoped>\n",
       "    .dataframe tbody tr th:only-of-type {\n",
       "        vertical-align: middle;\n",
       "    }\n",
       "\n",
       "    .dataframe tbody tr th {\n",
       "        vertical-align: top;\n",
       "    }\n",
       "\n",
       "    .dataframe thead th {\n",
       "        text-align: right;\n",
       "    }\n",
       "</style>\n",
       "<table border=\"1\" class=\"dataframe\">\n",
       "  <thead>\n",
       "    <tr style=\"text-align: right;\">\n",
       "      <th></th>\n",
       "      <th>name</th>\n",
       "      <th>alpha-2</th>\n",
       "      <th>alpha-3</th>\n",
       "      <th>country-code</th>\n",
       "      <th>iso_3166-2</th>\n",
       "      <th>region</th>\n",
       "      <th>sub-region</th>\n",
       "      <th>intermediate-region</th>\n",
       "      <th>region-code</th>\n",
       "      <th>sub-region-code</th>\n",
       "      <th>intermediate-region-code</th>\n",
       "    </tr>\n",
       "  </thead>\n",
       "  <tbody>\n",
       "    <tr>\n",
       "      <th>0</th>\n",
       "      <td>Afghanistan</td>\n",
       "      <td>AF</td>\n",
       "      <td>AFG</td>\n",
       "      <td>4</td>\n",
       "      <td>ISO 3166-2:AF</td>\n",
       "      <td>Asia</td>\n",
       "      <td>Southern Asia</td>\n",
       "      <td>NaN</td>\n",
       "      <td>142.0</td>\n",
       "      <td>34.0</td>\n",
       "      <td>NaN</td>\n",
       "    </tr>\n",
       "    <tr>\n",
       "      <th>1</th>\n",
       "      <td>Åland Islands</td>\n",
       "      <td>AX</td>\n",
       "      <td>ALA</td>\n",
       "      <td>248</td>\n",
       "      <td>ISO 3166-2:AX</td>\n",
       "      <td>Europe</td>\n",
       "      <td>Northern Europe</td>\n",
       "      <td>NaN</td>\n",
       "      <td>150.0</td>\n",
       "      <td>154.0</td>\n",
       "      <td>NaN</td>\n",
       "    </tr>\n",
       "    <tr>\n",
       "      <th>2</th>\n",
       "      <td>Albania</td>\n",
       "      <td>AL</td>\n",
       "      <td>ALB</td>\n",
       "      <td>8</td>\n",
       "      <td>ISO 3166-2:AL</td>\n",
       "      <td>Europe</td>\n",
       "      <td>Southern Europe</td>\n",
       "      <td>NaN</td>\n",
       "      <td>150.0</td>\n",
       "      <td>39.0</td>\n",
       "      <td>NaN</td>\n",
       "    </tr>\n",
       "    <tr>\n",
       "      <th>3</th>\n",
       "      <td>Algeria</td>\n",
       "      <td>DZ</td>\n",
       "      <td>DZA</td>\n",
       "      <td>12</td>\n",
       "      <td>ISO 3166-2:DZ</td>\n",
       "      <td>Africa</td>\n",
       "      <td>Northern Africa</td>\n",
       "      <td>NaN</td>\n",
       "      <td>2.0</td>\n",
       "      <td>15.0</td>\n",
       "      <td>NaN</td>\n",
       "    </tr>\n",
       "    <tr>\n",
       "      <th>4</th>\n",
       "      <td>American Samoa</td>\n",
       "      <td>AS</td>\n",
       "      <td>ASM</td>\n",
       "      <td>16</td>\n",
       "      <td>ISO 3166-2:AS</td>\n",
       "      <td>Oceania</td>\n",
       "      <td>Polynesia</td>\n",
       "      <td>NaN</td>\n",
       "      <td>9.0</td>\n",
       "      <td>61.0</td>\n",
       "      <td>NaN</td>\n",
       "    </tr>\n",
       "  </tbody>\n",
       "</table>\n",
       "</div>"
      ],
      "text/plain": [
       "             name alpha-2 alpha-3  country-code     iso_3166-2   region  \\\n",
       "0     Afghanistan      AF     AFG             4  ISO 3166-2:AF     Asia   \n",
       "1   Åland Islands      AX     ALA           248  ISO 3166-2:AX   Europe   \n",
       "2         Albania      AL     ALB             8  ISO 3166-2:AL   Europe   \n",
       "3         Algeria      DZ     DZA            12  ISO 3166-2:DZ   Africa   \n",
       "4  American Samoa      AS     ASM            16  ISO 3166-2:AS  Oceania   \n",
       "\n",
       "        sub-region intermediate-region  region-code  sub-region-code  \\\n",
       "0    Southern Asia                 NaN        142.0             34.0   \n",
       "1  Northern Europe                 NaN        150.0            154.0   \n",
       "2  Southern Europe                 NaN        150.0             39.0   \n",
       "3  Northern Africa                 NaN          2.0             15.0   \n",
       "4        Polynesia                 NaN          9.0             61.0   \n",
       "\n",
       "   intermediate-region-code  \n",
       "0                       NaN  \n",
       "1                       NaN  \n",
       "2                       NaN  \n",
       "3                       NaN  \n",
       "4                       NaN  "
      ]
     },
     "execution_count": 18,
     "metadata": {},
     "output_type": "execute_result"
    }
   ],
   "source": [
    "df_countries = pd.read_csv(\n",
    "    'https://raw.githubusercontent.com/lukes/ISO-3166-Countries-with-Regional-Codes/master/all/all.csv',\n",
    "    sep=',',\n",
    ")\n",
    "df_countries.head()\n"
   ]
  },
  {
   "cell_type": "code",
   "execution_count": 19,
   "metadata": {},
   "outputs": [
    {
     "data": {
      "text/plain": [
       "name                         object\n",
       "alpha-2                      object\n",
       "alpha-3                      object\n",
       "country-code                  int64\n",
       "iso_3166-2                   object\n",
       "region                       object\n",
       "sub-region                   object\n",
       "intermediate-region          object\n",
       "region-code                 float64\n",
       "sub-region-code             float64\n",
       "intermediate-region-code    float64\n",
       "dtype: object"
      ]
     },
     "execution_count": 19,
     "metadata": {},
     "output_type": "execute_result"
    }
   ],
   "source": [
    "df_countries.dtypes\n"
   ]
  },
  {
   "attachments": {},
   "cell_type": "markdown",
   "metadata": {},
   "source": [
    "### Data cleaning\n"
   ]
  },
  {
   "attachments": {},
   "cell_type": "markdown",
   "metadata": {},
   "source": [
    "Removing columns we won't need\n"
   ]
  },
  {
   "cell_type": "code",
   "execution_count": 20,
   "metadata": {},
   "outputs": [],
   "source": [
    "df_countries = df_countries.drop(['alpha-2', 'iso_3166-2'], axis=1)\n"
   ]
  },
  {
   "attachments": {},
   "cell_type": "markdown",
   "metadata": {},
   "source": [
    "Clean columns name\n"
   ]
  },
  {
   "cell_type": "code",
   "execution_count": 21,
   "metadata": {},
   "outputs": [],
   "source": [
    "df_countries.columns = [col.replace('-', '_').strip() for col in df_countries.columns]\n",
    "df_countries = df_countries.rename(columns={'name': 'country'})"
   ]
  },
  {
   "cell_type": "code",
   "execution_count": 22,
   "metadata": {},
   "outputs": [],
   "source": [
    "# Synchronize some country names with the cheese dataset\n",
    "df_countries.loc[df_countries.alpha_3 == 'GBR', 'country'] = 'United Kingdom'\n",
    "df_countries.loc[df_countries.alpha_3 == 'USA', 'country'] = 'USA'\n"
   ]
  },
  {
   "attachments": {},
   "cell_type": "markdown",
   "metadata": {},
   "source": [
    "### Missing values\n"
   ]
  },
  {
   "cell_type": "code",
   "execution_count": 23,
   "metadata": {},
   "outputs": [
    {
     "data": {
      "text/plain": [
       "intermediate_region         142\n",
       "intermediate_region_code    142\n",
       "region                        1\n",
       "sub_region                    1\n",
       "region_code                   1\n",
       "sub_region_code               1\n",
       "dtype: int64"
      ]
     },
     "execution_count": 23,
     "metadata": {},
     "output_type": "execute_result"
    }
   ],
   "source": [
    "per_countries_miss = df_countries.isna().sum()\n",
    "per_countries_miss[per_countries_miss > 0].sort_values(ascending=False)\n"
   ]
  },
  {
   "cell_type": "code",
   "execution_count": 24,
   "metadata": {},
   "outputs": [
    {
     "data": {
      "text/html": [
       "<div>\n",
       "<style scoped>\n",
       "    .dataframe tbody tr th:only-of-type {\n",
       "        vertical-align: middle;\n",
       "    }\n",
       "\n",
       "    .dataframe tbody tr th {\n",
       "        vertical-align: top;\n",
       "    }\n",
       "\n",
       "    .dataframe thead th {\n",
       "        text-align: right;\n",
       "    }\n",
       "</style>\n",
       "<table border=\"1\" class=\"dataframe\">\n",
       "  <thead>\n",
       "    <tr style=\"text-align: right;\">\n",
       "      <th></th>\n",
       "      <th>country</th>\n",
       "      <th>alpha_3</th>\n",
       "      <th>country_code</th>\n",
       "      <th>region</th>\n",
       "      <th>sub_region</th>\n",
       "      <th>intermediate_region</th>\n",
       "      <th>region_code</th>\n",
       "      <th>sub_region_code</th>\n",
       "      <th>intermediate_region_code</th>\n",
       "    </tr>\n",
       "  </thead>\n",
       "  <tbody>\n",
       "    <tr>\n",
       "      <th>8</th>\n",
       "      <td>Antarctica</td>\n",
       "      <td>ATA</td>\n",
       "      <td>10</td>\n",
       "      <td>NaN</td>\n",
       "      <td>NaN</td>\n",
       "      <td>NaN</td>\n",
       "      <td>NaN</td>\n",
       "      <td>NaN</td>\n",
       "      <td>NaN</td>\n",
       "    </tr>\n",
       "  </tbody>\n",
       "</table>\n",
       "</div>"
      ],
      "text/plain": [
       "      country alpha_3  country_code region sub_region intermediate_region  \\\n",
       "8  Antarctica     ATA            10    NaN        NaN                 NaN   \n",
       "\n",
       "   region_code  sub_region_code  intermediate_region_code  \n",
       "8          NaN              NaN                       NaN  "
      ]
     },
     "execution_count": 24,
     "metadata": {},
     "output_type": "execute_result"
    }
   ],
   "source": [
    "df_countries[\n",
    "    (df_countries.region_code.isna())\n",
    "    & (df_countries.sub_region_code.isna())\n",
    "    & (df_countries.intermediate_region_code.isna())\n",
    "]\n"
   ]
  },
  {
   "attachments": {},
   "cell_type": "markdown",
   "metadata": {},
   "source": [
    "Some values in columns `intermediate-region` are missing.  \n",
    "However after a closer look, it seems that when values are not missing, they correspond best to our idea of the `sub-region` column.\n",
    "\n",
    "Let's replace `sub-region` values with `intermediate-region` ones when the later are not missing. We can then proceed to drop `intermediate-region`.\n",
    "Don't forget to do the same operation for `sub-region-code` and `intermediate-region-code` ! Otherwise we will have a same code for two ditinct sub-regions !\n"
   ]
  },
  {
   "cell_type": "code",
   "execution_count": 25,
   "metadata": {},
   "outputs": [
    {
     "data": {
      "text/html": [
       "<div>\n",
       "<style scoped>\n",
       "    .dataframe tbody tr th:only-of-type {\n",
       "        vertical-align: middle;\n",
       "    }\n",
       "\n",
       "    .dataframe tbody tr th {\n",
       "        vertical-align: top;\n",
       "    }\n",
       "\n",
       "    .dataframe thead th {\n",
       "        text-align: right;\n",
       "    }\n",
       "</style>\n",
       "<table border=\"1\" class=\"dataframe\">\n",
       "  <thead>\n",
       "    <tr style=\"text-align: right;\">\n",
       "      <th></th>\n",
       "      <th>country</th>\n",
       "      <th>alpha_3</th>\n",
       "      <th>country_code</th>\n",
       "      <th>region</th>\n",
       "      <th>sub_region</th>\n",
       "      <th>intermediate_region</th>\n",
       "      <th>region_code</th>\n",
       "      <th>sub_region_code</th>\n",
       "      <th>intermediate_region_code</th>\n",
       "    </tr>\n",
       "  </thead>\n",
       "  <tbody>\n",
       "    <tr>\n",
       "      <th>6</th>\n",
       "      <td>Angola</td>\n",
       "      <td>AGO</td>\n",
       "      <td>24</td>\n",
       "      <td>Africa</td>\n",
       "      <td>Sub-Saharan Africa</td>\n",
       "      <td>Middle Africa</td>\n",
       "      <td>2.0</td>\n",
       "      <td>202.0</td>\n",
       "      <td>17.0</td>\n",
       "    </tr>\n",
       "    <tr>\n",
       "      <th>7</th>\n",
       "      <td>Anguilla</td>\n",
       "      <td>AIA</td>\n",
       "      <td>660</td>\n",
       "      <td>Americas</td>\n",
       "      <td>Latin America and the Caribbean</td>\n",
       "      <td>Caribbean</td>\n",
       "      <td>19.0</td>\n",
       "      <td>419.0</td>\n",
       "      <td>29.0</td>\n",
       "    </tr>\n",
       "    <tr>\n",
       "      <th>9</th>\n",
       "      <td>Antigua and Barbuda</td>\n",
       "      <td>ATG</td>\n",
       "      <td>28</td>\n",
       "      <td>Americas</td>\n",
       "      <td>Latin America and the Caribbean</td>\n",
       "      <td>Caribbean</td>\n",
       "      <td>19.0</td>\n",
       "      <td>419.0</td>\n",
       "      <td>29.0</td>\n",
       "    </tr>\n",
       "    <tr>\n",
       "      <th>10</th>\n",
       "      <td>Argentina</td>\n",
       "      <td>ARG</td>\n",
       "      <td>32</td>\n",
       "      <td>Americas</td>\n",
       "      <td>Latin America and the Caribbean</td>\n",
       "      <td>South America</td>\n",
       "      <td>19.0</td>\n",
       "      <td>419.0</td>\n",
       "      <td>5.0</td>\n",
       "    </tr>\n",
       "    <tr>\n",
       "      <th>12</th>\n",
       "      <td>Aruba</td>\n",
       "      <td>ABW</td>\n",
       "      <td>533</td>\n",
       "      <td>Americas</td>\n",
       "      <td>Latin America and the Caribbean</td>\n",
       "      <td>Caribbean</td>\n",
       "      <td>19.0</td>\n",
       "      <td>419.0</td>\n",
       "      <td>29.0</td>\n",
       "    </tr>\n",
       "    <tr>\n",
       "      <th>16</th>\n",
       "      <td>Bahamas</td>\n",
       "      <td>BHS</td>\n",
       "      <td>44</td>\n",
       "      <td>Americas</td>\n",
       "      <td>Latin America and the Caribbean</td>\n",
       "      <td>Caribbean</td>\n",
       "      <td>19.0</td>\n",
       "      <td>419.0</td>\n",
       "      <td>29.0</td>\n",
       "    </tr>\n",
       "    <tr>\n",
       "      <th>19</th>\n",
       "      <td>Barbados</td>\n",
       "      <td>BRB</td>\n",
       "      <td>52</td>\n",
       "      <td>Americas</td>\n",
       "      <td>Latin America and the Caribbean</td>\n",
       "      <td>Caribbean</td>\n",
       "      <td>19.0</td>\n",
       "      <td>419.0</td>\n",
       "      <td>29.0</td>\n",
       "    </tr>\n",
       "    <tr>\n",
       "      <th>22</th>\n",
       "      <td>Belize</td>\n",
       "      <td>BLZ</td>\n",
       "      <td>84</td>\n",
       "      <td>Americas</td>\n",
       "      <td>Latin America and the Caribbean</td>\n",
       "      <td>Central America</td>\n",
       "      <td>19.0</td>\n",
       "      <td>419.0</td>\n",
       "      <td>13.0</td>\n",
       "    </tr>\n",
       "    <tr>\n",
       "      <th>23</th>\n",
       "      <td>Benin</td>\n",
       "      <td>BEN</td>\n",
       "      <td>204</td>\n",
       "      <td>Africa</td>\n",
       "      <td>Sub-Saharan Africa</td>\n",
       "      <td>Western Africa</td>\n",
       "      <td>2.0</td>\n",
       "      <td>202.0</td>\n",
       "      <td>11.0</td>\n",
       "    </tr>\n",
       "    <tr>\n",
       "      <th>26</th>\n",
       "      <td>Bolivia (Plurinational State of)</td>\n",
       "      <td>BOL</td>\n",
       "      <td>68</td>\n",
       "      <td>Americas</td>\n",
       "      <td>Latin America and the Caribbean</td>\n",
       "      <td>South America</td>\n",
       "      <td>19.0</td>\n",
       "      <td>419.0</td>\n",
       "      <td>5.0</td>\n",
       "    </tr>\n",
       "  </tbody>\n",
       "</table>\n",
       "</div>"
      ],
      "text/plain": [
       "                             country alpha_3  country_code    region  \\\n",
       "6                             Angola     AGO            24    Africa   \n",
       "7                           Anguilla     AIA           660  Americas   \n",
       "9                Antigua and Barbuda     ATG            28  Americas   \n",
       "10                         Argentina     ARG            32  Americas   \n",
       "12                             Aruba     ABW           533  Americas   \n",
       "16                           Bahamas     BHS            44  Americas   \n",
       "19                          Barbados     BRB            52  Americas   \n",
       "22                            Belize     BLZ            84  Americas   \n",
       "23                             Benin     BEN           204    Africa   \n",
       "26  Bolivia (Plurinational State of)     BOL            68  Americas   \n",
       "\n",
       "                         sub_region intermediate_region  region_code  \\\n",
       "6                Sub-Saharan Africa       Middle Africa          2.0   \n",
       "7   Latin America and the Caribbean           Caribbean         19.0   \n",
       "9   Latin America and the Caribbean           Caribbean         19.0   \n",
       "10  Latin America and the Caribbean       South America         19.0   \n",
       "12  Latin America and the Caribbean           Caribbean         19.0   \n",
       "16  Latin America and the Caribbean           Caribbean         19.0   \n",
       "19  Latin America and the Caribbean           Caribbean         19.0   \n",
       "22  Latin America and the Caribbean     Central America         19.0   \n",
       "23               Sub-Saharan Africa      Western Africa          2.0   \n",
       "26  Latin America and the Caribbean       South America         19.0   \n",
       "\n",
       "    sub_region_code  intermediate_region_code  \n",
       "6             202.0                      17.0  \n",
       "7             419.0                      29.0  \n",
       "9             419.0                      29.0  \n",
       "10            419.0                       5.0  \n",
       "12            419.0                      29.0  \n",
       "16            419.0                      29.0  \n",
       "19            419.0                      29.0  \n",
       "22            419.0                      13.0  \n",
       "23            202.0                      11.0  \n",
       "26            419.0                       5.0  "
      ]
     },
     "execution_count": 25,
     "metadata": {},
     "output_type": "execute_result"
    }
   ],
   "source": [
    "miss_inter_reg = df_countries.intermediate_region.isna()\n",
    "df_countries[~miss_inter_reg].head(10)\n"
   ]
  },
  {
   "cell_type": "code",
   "execution_count": 26,
   "metadata": {},
   "outputs": [
    {
     "data": {
      "text/html": [
       "<div>\n",
       "<style scoped>\n",
       "    .dataframe tbody tr th:only-of-type {\n",
       "        vertical-align: middle;\n",
       "    }\n",
       "\n",
       "    .dataframe tbody tr th {\n",
       "        vertical-align: top;\n",
       "    }\n",
       "\n",
       "    .dataframe thead th {\n",
       "        text-align: right;\n",
       "    }\n",
       "</style>\n",
       "<table border=\"1\" class=\"dataframe\">\n",
       "  <thead>\n",
       "    <tr style=\"text-align: right;\">\n",
       "      <th></th>\n",
       "      <th>country</th>\n",
       "      <th>alpha_3</th>\n",
       "      <th>country_code</th>\n",
       "      <th>region</th>\n",
       "      <th>sub_region</th>\n",
       "      <th>intermediate_region</th>\n",
       "      <th>region_code</th>\n",
       "      <th>sub_region_code</th>\n",
       "      <th>intermediate_region_code</th>\n",
       "    </tr>\n",
       "  </thead>\n",
       "  <tbody>\n",
       "  </tbody>\n",
       "</table>\n",
       "</div>"
      ],
      "text/plain": [
       "Empty DataFrame\n",
       "Columns: [country, alpha_3, country_code, region, sub_region, intermediate_region, region_code, sub_region_code, intermediate_region_code]\n",
       "Index: []"
      ]
     },
     "execution_count": 26,
     "metadata": {},
     "output_type": "execute_result"
    }
   ],
   "source": [
    "# Checking for duplicate risk between sub-region code and intermediate-region code\n",
    "df_countries[(df_countries.sub_region_code == df_countries.intermediate_region_code)]\n"
   ]
  },
  {
   "cell_type": "code",
   "execution_count": 27,
   "metadata": {},
   "outputs": [],
   "source": [
    "df_countries.loc[~miss_inter_reg, 'sub_region'] = df_countries[~miss_inter_reg].intermediate_region\n",
    "df_countries.loc[~miss_inter_reg, 'sub_region_code'] = df_countries[ ~miss_inter_reg].intermediate_region_code\n",
    "df_countries = df_countries.drop(['intermediate_region', 'intermediate_region_code'], axis=1)\n"
   ]
  },
  {
   "attachments": {},
   "cell_type": "markdown",
   "metadata": {},
   "source": [
    "Let's replace all left missing values in *_code* columns with -1"
   ]
  },
  {
   "cell_type": "code",
   "execution_count": 28,
   "metadata": {},
   "outputs": [],
   "source": [
    "code_cols = [col for col in df_countries.columns if col.endswith('_code')]"
   ]
  },
  {
   "cell_type": "code",
   "execution_count": 29,
   "metadata": {},
   "outputs": [],
   "source": [
    "df_countries[code_cols] = df_countries[code_cols].fillna(value=-1)"
   ]
  },
  {
   "attachments": {},
   "cell_type": "markdown",
   "metadata": {},
   "source": [
    "Set dtype to int for _code_ columns."
   ]
  },
  {
   "cell_type": "code",
   "execution_count": 30,
   "metadata": {},
   "outputs": [
    {
     "data": {
      "text/plain": [
       "country            object\n",
       "alpha_3            object\n",
       "country_code        int64\n",
       "region             object\n",
       "sub_region         object\n",
       "region_code         int64\n",
       "sub_region_code     int64\n",
       "dtype: object"
      ]
     },
     "execution_count": 30,
     "metadata": {},
     "output_type": "execute_result"
    }
   ],
   "source": [
    "convert_dict = {col: int for col in code_cols}\n",
    "\n",
    "df_countries = df_countries.astype(convert_dict)\n",
    "df_countries.dtypes"
   ]
  },
  {
   "cell_type": "code",
   "execution_count": 31,
   "metadata": {},
   "outputs": [
    {
     "data": {
      "text/html": [
       "<div>\n",
       "<style scoped>\n",
       "    .dataframe tbody tr th:only-of-type {\n",
       "        vertical-align: middle;\n",
       "    }\n",
       "\n",
       "    .dataframe tbody tr th {\n",
       "        vertical-align: top;\n",
       "    }\n",
       "\n",
       "    .dataframe thead th {\n",
       "        text-align: right;\n",
       "    }\n",
       "</style>\n",
       "<table border=\"1\" class=\"dataframe\">\n",
       "  <thead>\n",
       "    <tr style=\"text-align: right;\">\n",
       "      <th></th>\n",
       "      <th>country</th>\n",
       "      <th>alpha_3</th>\n",
       "      <th>country_code</th>\n",
       "      <th>region</th>\n",
       "      <th>sub_region</th>\n",
       "      <th>region_code</th>\n",
       "      <th>sub_region_code</th>\n",
       "    </tr>\n",
       "  </thead>\n",
       "  <tbody>\n",
       "    <tr>\n",
       "      <th>0</th>\n",
       "      <td>Afghanistan</td>\n",
       "      <td>AFG</td>\n",
       "      <td>4</td>\n",
       "      <td>Asia</td>\n",
       "      <td>Southern Asia</td>\n",
       "      <td>142</td>\n",
       "      <td>34</td>\n",
       "    </tr>\n",
       "    <tr>\n",
       "      <th>1</th>\n",
       "      <td>Åland Islands</td>\n",
       "      <td>ALA</td>\n",
       "      <td>248</td>\n",
       "      <td>Europe</td>\n",
       "      <td>Northern Europe</td>\n",
       "      <td>150</td>\n",
       "      <td>154</td>\n",
       "    </tr>\n",
       "    <tr>\n",
       "      <th>2</th>\n",
       "      <td>Albania</td>\n",
       "      <td>ALB</td>\n",
       "      <td>8</td>\n",
       "      <td>Europe</td>\n",
       "      <td>Southern Europe</td>\n",
       "      <td>150</td>\n",
       "      <td>39</td>\n",
       "    </tr>\n",
       "    <tr>\n",
       "      <th>3</th>\n",
       "      <td>Algeria</td>\n",
       "      <td>DZA</td>\n",
       "      <td>12</td>\n",
       "      <td>Africa</td>\n",
       "      <td>Northern Africa</td>\n",
       "      <td>2</td>\n",
       "      <td>15</td>\n",
       "    </tr>\n",
       "    <tr>\n",
       "      <th>4</th>\n",
       "      <td>American Samoa</td>\n",
       "      <td>ASM</td>\n",
       "      <td>16</td>\n",
       "      <td>Oceania</td>\n",
       "      <td>Polynesia</td>\n",
       "      <td>9</td>\n",
       "      <td>61</td>\n",
       "    </tr>\n",
       "  </tbody>\n",
       "</table>\n",
       "</div>"
      ],
      "text/plain": [
       "          country alpha_3  country_code   region       sub_region  \\\n",
       "0     Afghanistan     AFG             4     Asia    Southern Asia   \n",
       "1   Åland Islands     ALA           248   Europe  Northern Europe   \n",
       "2         Albania     ALB             8   Europe  Southern Europe   \n",
       "3         Algeria     DZA            12   Africa  Northern Africa   \n",
       "4  American Samoa     ASM            16  Oceania        Polynesia   \n",
       "\n",
       "   region_code  sub_region_code  \n",
       "0          142               34  \n",
       "1          150              154  \n",
       "2          150               39  \n",
       "3            2               15  \n",
       "4            9               61  "
      ]
     },
     "execution_count": 31,
     "metadata": {},
     "output_type": "execute_result"
    }
   ],
   "source": [
    "df_countries.head()"
   ]
  },
  {
   "attachments": {},
   "cell_type": "markdown",
   "metadata": {},
   "source": [
    "### Merging with our cheese dataset\n",
    "The number of rows should remain the same, we just add new columns."
   ]
  },
  {
   "cell_type": "code",
   "execution_count": 32,
   "metadata": {},
   "outputs": [
    {
     "data": {
      "text/plain": [
       "(1741, 13)"
      ]
     },
     "execution_count": 32,
     "metadata": {},
     "output_type": "execute_result"
    }
   ],
   "source": [
    "df_merged = df.merge(df_countries, how='left', on='country')\n",
    "df_merged.shape"
   ]
  },
  {
   "cell_type": "code",
   "execution_count": 33,
   "metadata": {},
   "outputs": [
    {
     "data": {
      "text/html": [
       "<div>\n",
       "<style scoped>\n",
       "    .dataframe tbody tr th:only-of-type {\n",
       "        vertical-align: middle;\n",
       "    }\n",
       "\n",
       "    .dataframe tbody tr th {\n",
       "        vertical-align: top;\n",
       "    }\n",
       "\n",
       "    .dataframe thead th {\n",
       "        text-align: right;\n",
       "    }\n",
       "</style>\n",
       "<table border=\"1\" class=\"dataframe\">\n",
       "  <thead>\n",
       "    <tr style=\"text-align: right;\">\n",
       "      <th></th>\n",
       "      <th>company</th>\n",
       "      <th>product_name</th>\n",
       "      <th>rating</th>\n",
       "      <th>category</th>\n",
       "      <th>country</th>\n",
       "      <th>county</th>\n",
       "      <th>cat_code</th>\n",
       "      <th>alpha_3</th>\n",
       "      <th>country_code</th>\n",
       "      <th>region</th>\n",
       "      <th>sub_region</th>\n",
       "      <th>region_code</th>\n",
       "      <th>sub_region_code</th>\n",
       "    </tr>\n",
       "  </thead>\n",
       "  <tbody>\n",
       "    <tr>\n",
       "      <th>0</th>\n",
       "      <td>Laiteries H. Triballa</td>\n",
       "      <td>Picandou L'Original</td>\n",
       "      <td>GOLD</td>\n",
       "      <td>Soft goats’ milk cheese plain – fresh</td>\n",
       "      <td>France</td>\n",
       "      <td>NaN</td>\n",
       "      <td>5001</td>\n",
       "      <td>FRA</td>\n",
       "      <td>250</td>\n",
       "      <td>Europe</td>\n",
       "      <td>Western Europe</td>\n",
       "      <td>150</td>\n",
       "      <td>155</td>\n",
       "    </tr>\n",
       "    <tr>\n",
       "      <th>1</th>\n",
       "      <td>Fromageries Lescure (Savencia)</td>\n",
       "      <td>ISLOS GREEK GOAT CHEESE 150G</td>\n",
       "      <td>BRONZE</td>\n",
       "      <td>Soft goats’ milk cheese plain – fresh</td>\n",
       "      <td>Greece</td>\n",
       "      <td>NaN</td>\n",
       "      <td>5001</td>\n",
       "      <td>GRC</td>\n",
       "      <td>300</td>\n",
       "      <td>Europe</td>\n",
       "      <td>Southern Europe</td>\n",
       "      <td>150</td>\n",
       "      <td>39</td>\n",
       "    </tr>\n",
       "    <tr>\n",
       "      <th>2</th>\n",
       "      <td>Casale Roccolo azienda agricola biologica</td>\n",
       "      <td>Caprino Fresco CASALE ROCCOLO</td>\n",
       "      <td>SILVER</td>\n",
       "      <td>Soft goats’ milk cheese plain – fresh</td>\n",
       "      <td>Italy</td>\n",
       "      <td>NaN</td>\n",
       "      <td>5001</td>\n",
       "      <td>ITA</td>\n",
       "      <td>380</td>\n",
       "      <td>Europe</td>\n",
       "      <td>Southern Europe</td>\n",
       "      <td>150</td>\n",
       "      <td>39</td>\n",
       "    </tr>\n",
       "    <tr>\n",
       "      <th>3</th>\n",
       "      <td>DeJong Ch</td>\n",
       "      <td>Alphenaer Crumbled Goats Cheese Natural  View  Stockists</td>\n",
       "      <td>BRONZE</td>\n",
       "      <td>Soft goats’ milk cheese plain – fresh</td>\n",
       "      <td>Netherlands</td>\n",
       "      <td>NaN</td>\n",
       "      <td>5001</td>\n",
       "      <td>NLD</td>\n",
       "      <td>528</td>\n",
       "      <td>Europe</td>\n",
       "      <td>Western Europe</td>\n",
       "      <td>150</td>\n",
       "      <td>155</td>\n",
       "    </tr>\n",
       "    <tr>\n",
       "      <th>4</th>\n",
       "      <td>DeJong Ch</td>\n",
       "      <td>Alphenaer Spreadable Goats Cheese Natural  View  Stockists</td>\n",
       "      <td>BRONZE</td>\n",
       "      <td>Soft goats’ milk cheese plain – fresh</td>\n",
       "      <td>Netherlands</td>\n",
       "      <td>NaN</td>\n",
       "      <td>5001</td>\n",
       "      <td>NLD</td>\n",
       "      <td>528</td>\n",
       "      <td>Europe</td>\n",
       "      <td>Western Europe</td>\n",
       "      <td>150</td>\n",
       "      <td>155</td>\n",
       "    </tr>\n",
       "  </tbody>\n",
       "</table>\n",
       "</div>"
      ],
      "text/plain": [
       "                                     company  \\\n",
       "0                      Laiteries H. Triballa   \n",
       "1             Fromageries Lescure (Savencia)   \n",
       "2  Casale Roccolo azienda agricola biologica   \n",
       "3                                  DeJong Ch   \n",
       "4                                  DeJong Ch   \n",
       "\n",
       "                                                 product_name  rating  \\\n",
       "0                                         Picandou L'Original    GOLD   \n",
       "1                                ISLOS GREEK GOAT CHEESE 150G  BRONZE   \n",
       "2                               Caprino Fresco CASALE ROCCOLO  SILVER   \n",
       "3    Alphenaer Crumbled Goats Cheese Natural  View  Stockists  BRONZE   \n",
       "4  Alphenaer Spreadable Goats Cheese Natural  View  Stockists  BRONZE   \n",
       "\n",
       "                                category      country county  cat_code  \\\n",
       "0  Soft goats’ milk cheese plain – fresh       France    NaN      5001   \n",
       "1  Soft goats’ milk cheese plain – fresh       Greece    NaN      5001   \n",
       "2  Soft goats’ milk cheese plain – fresh        Italy    NaN      5001   \n",
       "3  Soft goats’ milk cheese plain – fresh  Netherlands    NaN      5001   \n",
       "4  Soft goats’ milk cheese plain – fresh  Netherlands    NaN      5001   \n",
       "\n",
       "  alpha_3  country_code  region       sub_region  region_code  sub_region_code  \n",
       "0     FRA           250  Europe   Western Europe          150              155  \n",
       "1     GRC           300  Europe  Southern Europe          150               39  \n",
       "2     ITA           380  Europe  Southern Europe          150               39  \n",
       "3     NLD           528  Europe   Western Europe          150              155  \n",
       "4     NLD           528  Europe   Western Europe          150              155  "
      ]
     },
     "execution_count": 33,
     "metadata": {},
     "output_type": "execute_result"
    }
   ],
   "source": [
    "df_merged.head()"
   ]
  },
  {
   "cell_type": "code",
   "execution_count": 34,
   "metadata": {},
   "outputs": [],
   "source": [
    "df_merged.to_csv('data/world_cheese_awards_2021_augmented.csv', sep=',', index=False)"
   ]
  },
  {
   "attachments": {},
   "cell_type": "markdown",
   "metadata": {},
   "source": [
    "## Target analysis\n"
   ]
  },
  {
   "cell_type": "code",
   "execution_count": 35,
   "metadata": {},
   "outputs": [
    {
     "data": {
      "text/plain": [
       "('rating',\n",
       " ['company',\n",
       "  'product_name',\n",
       "  'category',\n",
       "  'country',\n",
       "  'county',\n",
       "  'cat_code',\n",
       "  'alpha_3',\n",
       "  'country_code',\n",
       "  'region',\n",
       "  'sub_region',\n",
       "  'region_code',\n",
       "  'sub_region_code'])"
      ]
     },
     "execution_count": 35,
     "metadata": {},
     "output_type": "execute_result"
    }
   ],
   "source": [
    "target = 'rating'\n",
    "features = [col for col in df_merged.columns if col != target]\n",
    "target, features\n"
   ]
  },
  {
   "attachments": {},
   "cell_type": "markdown",
   "metadata": {},
   "source": [
    "We have imbalanced classes. *Who could have guessed ?*"
   ]
  },
  {
   "cell_type": "code",
   "execution_count": 36,
   "metadata": {},
   "outputs": [
    {
     "data": {
      "image/png": "[encoded data removed]",
      "text/plain": [
       "<Figure size 640x480 with 1 Axes>"
      ]
     },
     "metadata": {},
     "output_type": "display_data"
    }
   ],
   "source": [
    "ax = df_merged[target].value_counts().plot.bar(rot=0, color=color_palette)\n",
    "ax.bar_label(ax.containers[0])\n",
    "plt.title('Rating distribution')\n",
    "plt.show()\n"
   ]
  },
  {
   "attachments": {},
   "cell_type": "markdown",
   "metadata": {},
   "source": [
    "## Top countries\n"
   ]
  },
  {
   "cell_type": "code",
   "execution_count": 37,
   "metadata": {},
   "outputs": [],
   "source": [
    "df_rt = df_merged[['country', 'rating']]\n",
    "ratings = ['SUPER GOLD', 'GOLD', 'SILVER', 'BRONZE']\n",
    "n = 15\n"
   ]
  },
  {
   "attachments": {},
   "cell_type": "markdown",
   "metadata": {},
   "source": [
    "Look at this beautiful cross table !  \n",
    "It shows Spain having the most prizes in every rating.  \n",
    "\"Hey, that's not fair ! Spain had _way_ more cheeses in the competition !\"\n"
   ]
  },
  {
   "cell_type": "code",
   "execution_count": 38,
   "metadata": {},
   "outputs": [
    {
     "data": {
      "text/html": [
       "<div>\n",
       "<style scoped>\n",
       "    .dataframe tbody tr th:only-of-type {\n",
       "        vertical-align: middle;\n",
       "    }\n",
       "\n",
       "    .dataframe tbody tr th {\n",
       "        vertical-align: top;\n",
       "    }\n",
       "\n",
       "    .dataframe thead th {\n",
       "        text-align: right;\n",
       "    }\n",
       "</style>\n",
       "<table border=\"1\" class=\"dataframe\">\n",
       "  <thead>\n",
       "    <tr style=\"text-align: right;\">\n",
       "      <th>rating</th>\n",
       "      <th>SUPER GOLD</th>\n",
       "      <th>GOLD</th>\n",
       "      <th>SILVER</th>\n",
       "      <th>BRONZE</th>\n",
       "      <th>Total_ratings</th>\n",
       "    </tr>\n",
       "    <tr>\n",
       "      <th>country</th>\n",
       "      <th></th>\n",
       "      <th></th>\n",
       "      <th></th>\n",
       "      <th></th>\n",
       "      <th></th>\n",
       "    </tr>\n",
       "  </thead>\n",
       "  <tbody>\n",
       "    <tr>\n",
       "      <th>Spain</th>\n",
       "      <td>27</td>\n",
       "      <td>118</td>\n",
       "      <td>246</td>\n",
       "      <td>332</td>\n",
       "      <td>723</td>\n",
       "    </tr>\n",
       "    <tr>\n",
       "      <th>Italy</th>\n",
       "      <td>15</td>\n",
       "      <td>70</td>\n",
       "      <td>116</td>\n",
       "      <td>119</td>\n",
       "      <td>320</td>\n",
       "    </tr>\n",
       "    <tr>\n",
       "      <th>United Kingdom</th>\n",
       "      <td>8</td>\n",
       "      <td>14</td>\n",
       "      <td>23</td>\n",
       "      <td>40</td>\n",
       "      <td>85</td>\n",
       "    </tr>\n",
       "    <tr>\n",
       "      <th>Netherlands</th>\n",
       "      <td>8</td>\n",
       "      <td>15</td>\n",
       "      <td>22</td>\n",
       "      <td>35</td>\n",
       "      <td>80</td>\n",
       "    </tr>\n",
       "    <tr>\n",
       "      <th>France</th>\n",
       "      <td>7</td>\n",
       "      <td>21</td>\n",
       "      <td>35</td>\n",
       "      <td>25</td>\n",
       "      <td>88</td>\n",
       "    </tr>\n",
       "    <tr>\n",
       "      <th>Belgium</th>\n",
       "      <td>5</td>\n",
       "      <td>4</td>\n",
       "      <td>6</td>\n",
       "      <td>14</td>\n",
       "      <td>29</td>\n",
       "    </tr>\n",
       "    <tr>\n",
       "      <th>Austria</th>\n",
       "      <td>4</td>\n",
       "      <td>13</td>\n",
       "      <td>21</td>\n",
       "      <td>34</td>\n",
       "      <td>72</td>\n",
       "    </tr>\n",
       "    <tr>\n",
       "      <th>Switzerland</th>\n",
       "      <td>3</td>\n",
       "      <td>20</td>\n",
       "      <td>34</td>\n",
       "      <td>29</td>\n",
       "      <td>86</td>\n",
       "    </tr>\n",
       "    <tr>\n",
       "      <th>Portugal</th>\n",
       "      <td>2</td>\n",
       "      <td>4</td>\n",
       "      <td>6</td>\n",
       "      <td>11</td>\n",
       "      <td>23</td>\n",
       "    </tr>\n",
       "    <tr>\n",
       "      <th>Japan</th>\n",
       "      <td>2</td>\n",
       "      <td>3</td>\n",
       "      <td>3</td>\n",
       "      <td>6</td>\n",
       "      <td>14</td>\n",
       "    </tr>\n",
       "    <tr>\n",
       "      <th>Sweden</th>\n",
       "      <td>1</td>\n",
       "      <td>1</td>\n",
       "      <td>1</td>\n",
       "      <td>3</td>\n",
       "      <td>6</td>\n",
       "    </tr>\n",
       "    <tr>\n",
       "      <th>Germany</th>\n",
       "      <td>1</td>\n",
       "      <td>5</td>\n",
       "      <td>10</td>\n",
       "      <td>2</td>\n",
       "      <td>18</td>\n",
       "    </tr>\n",
       "    <tr>\n",
       "      <th>Greece</th>\n",
       "      <td>1</td>\n",
       "      <td>1</td>\n",
       "      <td>4</td>\n",
       "      <td>7</td>\n",
       "      <td>13</td>\n",
       "    </tr>\n",
       "    <tr>\n",
       "      <th>Hungary</th>\n",
       "      <td>1</td>\n",
       "      <td>0</td>\n",
       "      <td>0</td>\n",
       "      <td>4</td>\n",
       "      <td>5</td>\n",
       "    </tr>\n",
       "    <tr>\n",
       "      <th>Canada</th>\n",
       "      <td>1</td>\n",
       "      <td>2</td>\n",
       "      <td>4</td>\n",
       "      <td>2</td>\n",
       "      <td>9</td>\n",
       "    </tr>\n",
       "  </tbody>\n",
       "</table>\n",
       "</div>"
      ],
      "text/plain": [
       "rating          SUPER GOLD  GOLD  SILVER  BRONZE  Total_ratings\n",
       "country                                                        \n",
       "Spain                   27   118     246     332            723\n",
       "Italy                   15    70     116     119            320\n",
       "United Kingdom           8    14      23      40             85\n",
       "Netherlands              8    15      22      35             80\n",
       "France                   7    21      35      25             88\n",
       "Belgium                  5     4       6      14             29\n",
       "Austria                  4    13      21      34             72\n",
       "Switzerland              3    20      34      29             86\n",
       "Portugal                 2     4       6      11             23\n",
       "Japan                    2     3       3       6             14\n",
       "Sweden                   1     1       1       3              6\n",
       "Germany                  1     5      10       2             18\n",
       "Greece                   1     1       4       7             13\n",
       "Hungary                  1     0       0       4              5\n",
       "Canada                   1     2       4       2              9"
      ]
     },
     "execution_count": 38,
     "metadata": {},
     "output_type": "execute_result"
    }
   ],
   "source": [
    "top_n = pd.crosstab(df_rt.country, df_rt.rating)\n",
    "\n",
    "top_n = top_n.loc[:, ratings]  # re-ordering columns\n",
    "top_n['Total_ratings'] = top_n.sum(axis=1, numeric_only=True)\n",
    "top_n = top_n.sort_values(by='SUPER GOLD', ascending=False).head(15)\n",
    "\n",
    "top_n\n"
   ]
  },
  {
   "cell_type": "code",
   "execution_count": 39,
   "metadata": {},
   "outputs": [],
   "source": [
    "def stacked_rewards_distrib(\n",
    "    df: pd.DataFrame,\n",
    "    sort_value: str,\n",
    "    title: str,\n",
    "    colors: list[str] = color_palette,\n",
    "    bar_type: str = 'barh',\n",
    "    n_top: int = 15,\n",
    ") -> None:\n",
    "    \"\"\"Plot the distribution of each rewards in a stacked bar chart.\"\"\"\n",
    "    ax = (\n",
    "        df.loc[:, ratings[::-1]]  # reverse list for diplay purposes\n",
    "        .head(n_top)\n",
    "        .sort_values(by=sort_value)\n",
    "        .plot(kind=bar_type, color=colors, stacked=True)\n",
    "    )\n",
    "    ax.set(ylabel=None)\n",
    "    plt.title(title)\n",
    "    plt.legend(title='Rewards', bbox_to_anchor=(1.0, 1.0))\n",
    "    plt.show()\n"
   ]
  },
  {
   "cell_type": "code",
   "execution_count": 40,
   "metadata": {},
   "outputs": [],
   "source": [
    "def rewards_distrib(\n",
    "    df: pd.DataFrame,\n",
    "    figsize: tuple[int, int] = (10, 5),\n",
    "    bar_type: str = 'bar',\n",
    "    bar_labels: bool = False,\n",
    "    colors: list[str] = color_palette,\n",
    "    padding_top: float = 1.6,\n",
    "):\n",
    "    \"\"\"Plot the distribution of each rewards in separate subplots.\"\"\"\n",
    "    fig, ax = plt.subplots(len(ratings), 1, figsize=figsize, sharex=True)\n",
    "\n",
    "    for i, rt in enumerate(ratings):\n",
    "        df.loc[:, rt].plot(kind=bar_type, ax=ax[i], title=rt, color=colors[i])\n",
    "        ax[i].tick_params('x', labelrotation=45)\n",
    "        ax[i].set(xlabel=None)\n",
    "\n",
    "        if bar_labels:\n",
    "            for container in ax[i].containers:\n",
    "                ax[i].bar_label(container)\n",
    "\n",
    "    plt.subplots_adjust(top=padding_top)\n",
    "    plt.show()\n"
   ]
  },
  {
   "cell_type": "code",
   "execution_count": 41,
   "metadata": {},
   "outputs": [
    {
     "data": {
      "image/png": "[encoded data removed]",
      "text/plain": [
       "<Figure size 640x480 with 1 Axes>"
      ]
     },
     "metadata": {},
     "output_type": "display_data"
    }
   ],
   "source": [
    "stacked_rewards_distrib(\n",
    "    top_n,\n",
    "    n_top=n,\n",
    "    sort_value='BRONZE',\n",
    "    title='Distribution of rewards in the top 15 countries (SUPER GOLD)',\n",
    ")\n"
   ]
  },
  {
   "cell_type": "code",
   "execution_count": 42,
   "metadata": {},
   "outputs": [
    {
     "data": {
      "image/png": "[encoded data removed]",
      "text/plain": [
       "<Figure size 1000x500 with 4 Axes>"
      ]
     },
     "metadata": {},
     "output_type": "display_data"
    }
   ],
   "source": [
    "rewards_distrib(top_n, bar_labels=True, colors=color_palette[::-1])\n"
   ]
  },
  {
   "attachments": {},
   "cell_type": "markdown",
   "metadata": {},
   "source": [
    "Another type of ranking could be to compute the share of each prize in the total number of obtained prizes for the country. This time, Japan rules !  \n",
    "The cross table gives us interesting insights of the competition !  \n",
    "\"Hey that's not fair ! Japan has only 2 cheeses in the competition ! Isn't this ranking giving an _outrageous_ advantage to countries with fewer cheeses ?\"\n"
   ]
  },
  {
   "cell_type": "code",
   "execution_count": 43,
   "metadata": {},
   "outputs": [
    {
     "data": {
      "text/html": [
       "<div>\n",
       "<style scoped>\n",
       "    .dataframe tbody tr th:only-of-type {\n",
       "        vertical-align: middle;\n",
       "    }\n",
       "\n",
       "    .dataframe tbody tr th {\n",
       "        vertical-align: top;\n",
       "    }\n",
       "\n",
       "    .dataframe thead th {\n",
       "        text-align: right;\n",
       "    }\n",
       "</style>\n",
       "<table border=\"1\" class=\"dataframe\">\n",
       "  <thead>\n",
       "    <tr style=\"text-align: right;\">\n",
       "      <th>rating</th>\n",
       "      <th>SUPER GOLD</th>\n",
       "      <th>GOLD</th>\n",
       "      <th>SILVER</th>\n",
       "      <th>BRONZE</th>\n",
       "      <th>Total_ratings</th>\n",
       "    </tr>\n",
       "    <tr>\n",
       "      <th>country</th>\n",
       "      <th></th>\n",
       "      <th></th>\n",
       "      <th></th>\n",
       "      <th></th>\n",
       "      <th></th>\n",
       "    </tr>\n",
       "  </thead>\n",
       "  <tbody>\n",
       "    <tr>\n",
       "      <th>Hungary</th>\n",
       "      <td>20.00</td>\n",
       "      <td>0.00</td>\n",
       "      <td>0.00</td>\n",
       "      <td>80.00</td>\n",
       "      <td>5</td>\n",
       "    </tr>\n",
       "    <tr>\n",
       "      <th>Belgium</th>\n",
       "      <td>17.24</td>\n",
       "      <td>13.79</td>\n",
       "      <td>20.69</td>\n",
       "      <td>48.28</td>\n",
       "      <td>29</td>\n",
       "    </tr>\n",
       "    <tr>\n",
       "      <th>Sweden</th>\n",
       "      <td>16.67</td>\n",
       "      <td>16.67</td>\n",
       "      <td>16.67</td>\n",
       "      <td>50.00</td>\n",
       "      <td>6</td>\n",
       "    </tr>\n",
       "    <tr>\n",
       "      <th>Japan</th>\n",
       "      <td>14.29</td>\n",
       "      <td>21.43</td>\n",
       "      <td>21.43</td>\n",
       "      <td>42.86</td>\n",
       "      <td>14</td>\n",
       "    </tr>\n",
       "    <tr>\n",
       "      <th>Canada</th>\n",
       "      <td>11.11</td>\n",
       "      <td>22.22</td>\n",
       "      <td>44.44</td>\n",
       "      <td>22.22</td>\n",
       "      <td>9</td>\n",
       "    </tr>\n",
       "    <tr>\n",
       "      <th>Netherlands</th>\n",
       "      <td>10.00</td>\n",
       "      <td>18.75</td>\n",
       "      <td>27.50</td>\n",
       "      <td>43.75</td>\n",
       "      <td>80</td>\n",
       "    </tr>\n",
       "    <tr>\n",
       "      <th>United Kingdom</th>\n",
       "      <td>9.41</td>\n",
       "      <td>16.47</td>\n",
       "      <td>27.06</td>\n",
       "      <td>47.06</td>\n",
       "      <td>85</td>\n",
       "    </tr>\n",
       "    <tr>\n",
       "      <th>Portugal</th>\n",
       "      <td>8.70</td>\n",
       "      <td>17.39</td>\n",
       "      <td>26.09</td>\n",
       "      <td>47.83</td>\n",
       "      <td>23</td>\n",
       "    </tr>\n",
       "    <tr>\n",
       "      <th>France</th>\n",
       "      <td>7.95</td>\n",
       "      <td>23.86</td>\n",
       "      <td>39.77</td>\n",
       "      <td>28.41</td>\n",
       "      <td>88</td>\n",
       "    </tr>\n",
       "    <tr>\n",
       "      <th>Greece</th>\n",
       "      <td>7.69</td>\n",
       "      <td>7.69</td>\n",
       "      <td>30.77</td>\n",
       "      <td>53.85</td>\n",
       "      <td>13</td>\n",
       "    </tr>\n",
       "    <tr>\n",
       "      <th>Austria</th>\n",
       "      <td>5.56</td>\n",
       "      <td>18.06</td>\n",
       "      <td>29.17</td>\n",
       "      <td>47.22</td>\n",
       "      <td>72</td>\n",
       "    </tr>\n",
       "    <tr>\n",
       "      <th>Germany</th>\n",
       "      <td>5.56</td>\n",
       "      <td>27.78</td>\n",
       "      <td>55.56</td>\n",
       "      <td>11.11</td>\n",
       "      <td>18</td>\n",
       "    </tr>\n",
       "    <tr>\n",
       "      <th>Italy</th>\n",
       "      <td>4.69</td>\n",
       "      <td>21.88</td>\n",
       "      <td>36.25</td>\n",
       "      <td>37.19</td>\n",
       "      <td>320</td>\n",
       "    </tr>\n",
       "    <tr>\n",
       "      <th>Spain</th>\n",
       "      <td>3.73</td>\n",
       "      <td>16.32</td>\n",
       "      <td>34.02</td>\n",
       "      <td>45.92</td>\n",
       "      <td>723</td>\n",
       "    </tr>\n",
       "    <tr>\n",
       "      <th>Switzerland</th>\n",
       "      <td>3.49</td>\n",
       "      <td>23.26</td>\n",
       "      <td>39.53</td>\n",
       "      <td>33.72</td>\n",
       "      <td>86</td>\n",
       "    </tr>\n",
       "  </tbody>\n",
       "</table>\n",
       "</div>"
      ],
      "text/plain": [
       "rating          SUPER GOLD   GOLD  SILVER  BRONZE  Total_ratings\n",
       "country                                                         \n",
       "Hungary              20.00   0.00    0.00   80.00              5\n",
       "Belgium              17.24  13.79   20.69   48.28             29\n",
       "Sweden               16.67  16.67   16.67   50.00              6\n",
       "Japan                14.29  21.43   21.43   42.86             14\n",
       "Canada               11.11  22.22   44.44   22.22              9\n",
       "Netherlands          10.00  18.75   27.50   43.75             80\n",
       "United Kingdom        9.41  16.47   27.06   47.06             85\n",
       "Portugal              8.70  17.39   26.09   47.83             23\n",
       "France                7.95  23.86   39.77   28.41             88\n",
       "Greece                7.69   7.69   30.77   53.85             13\n",
       "Austria               5.56  18.06   29.17   47.22             72\n",
       "Germany               5.56  27.78   55.56   11.11             18\n",
       "Italy                 4.69  21.88   36.25   37.19            320\n",
       "Spain                 3.73  16.32   34.02   45.92            723\n",
       "Switzerland           3.49  23.26   39.53   33.72             86"
      ]
     },
     "execution_count": 43,
     "metadata": {},
     "output_type": "execute_result"
    }
   ],
   "source": [
    "per_top_n = top_n.copy()\n",
    "per_top_n.iloc[:, :-1] = (top_n.divide(top_n.Total_ratings, axis=0) * 100).round(2)\n",
    "per_top_n = per_top_n.sort_values(by='SUPER GOLD', ascending=False)\n",
    "per_top_n\n"
   ]
  },
  {
   "cell_type": "code",
   "execution_count": 44,
   "metadata": {},
   "outputs": [
    {
     "data": {
      "image/png": "[encoded data removed]",
      "text/plain": [
       "<Figure size 640x480 with 1 Axes>"
      ]
     },
     "metadata": {},
     "output_type": "display_data"
    }
   ],
   "source": [
    "stacked_rewards_distrib(\n",
    "    per_top_n,\n",
    "    sort_value='SUPER GOLD',\n",
    "    title=f'Share of each rating (%) in the top {n} countries',\n",
    ")"
   ]
  },
  {
   "attachments": {},
   "cell_type": "markdown",
   "metadata": {},
   "source": [
    "_sight_ We would argue that Ireland or Germany are not doing so great despite having less cheese.  \n",
    "But I agree on one point : just like the Olympics Games, we only based our ranking on the total number of obtained \"SUPER GOLD\".\n",
    "\n",
    "Few ideas :\n",
    "\n",
    "1. Do like schools (mostly western europe) to compute a final 'end of the semester' mark.  \n",
    "   It consist in computing the mean of all obtained ratings and ponderating each rating type in the computation  \n",
    "   Giving us : $$mark = {nSUPERGOLD*x + ... + nBRONZE*k \\over 4} $$\n",
    "\n",
    "2. A scoring system, where we attribute a number of points for each type of rating and compute the total points.  \n",
    "   This is nothing new, several ranking systems already exist for this kind of competition.\n",
    "   See [here](https://www.topendsports.com/events/summer/medal-tally/rankings.htm#:~:text=The%20common%20method%20of%20determining,still%20no%20'official'%20method.) for more details.\n",
    "\n",
    "I'll go with the **Fibonacci weighted point system (4:3:2:1)**, you are free to choose one you like.\n"
   ]
  },
  {
   "cell_type": "code",
   "execution_count": 45,
   "metadata": {},
   "outputs": [],
   "source": [
    "pts_dict = {'SUPER GOLD': 4, 'GOLD': 3, 'SILVER': 2, 'BRONZE': 1}\n"
   ]
  },
  {
   "cell_type": "code",
   "execution_count": 46,
   "metadata": {},
   "outputs": [],
   "source": [
    "top_n_points = top_n.copy()\n",
    "\n",
    "top_n_points['Score'] = (\n",
    "    top_n_points['SUPER GOLD'] * pts_dict['SUPER GOLD']\n",
    "    + top_n_points['GOLD'] * pts_dict['GOLD']\n",
    "    + top_n_points['SILVER'] * pts_dict['SILVER']\n",
    "    + top_n_points['BRONZE'] * pts_dict['BRONZE']\n",
    ")\n"
   ]
  },
  {
   "attachments": {},
   "cell_type": "markdown",
   "metadata": {},
   "source": [
    "This is still giving a serious advantage to coutries with more cheese in the competition...  \n",
    "It just shows us that establishing a fair ranking system is hard with high data imbalance.\n"
   ]
  },
  {
   "cell_type": "code",
   "execution_count": 47,
   "metadata": {},
   "outputs": [
    {
     "data": {
      "text/html": [
       "<div>\n",
       "<style scoped>\n",
       "    .dataframe tbody tr th:only-of-type {\n",
       "        vertical-align: middle;\n",
       "    }\n",
       "\n",
       "    .dataframe tbody tr th {\n",
       "        vertical-align: top;\n",
       "    }\n",
       "\n",
       "    .dataframe thead th {\n",
       "        text-align: right;\n",
       "    }\n",
       "</style>\n",
       "<table border=\"1\" class=\"dataframe\">\n",
       "  <thead>\n",
       "    <tr style=\"text-align: right;\">\n",
       "      <th>rating</th>\n",
       "      <th>SUPER GOLD</th>\n",
       "      <th>GOLD</th>\n",
       "      <th>SILVER</th>\n",
       "      <th>BRONZE</th>\n",
       "      <th>Total_ratings</th>\n",
       "      <th>Score</th>\n",
       "    </tr>\n",
       "    <tr>\n",
       "      <th>country</th>\n",
       "      <th></th>\n",
       "      <th></th>\n",
       "      <th></th>\n",
       "      <th></th>\n",
       "      <th></th>\n",
       "      <th></th>\n",
       "    </tr>\n",
       "  </thead>\n",
       "  <tbody>\n",
       "    <tr>\n",
       "      <th>Spain</th>\n",
       "      <td>27</td>\n",
       "      <td>118</td>\n",
       "      <td>246</td>\n",
       "      <td>332</td>\n",
       "      <td>723</td>\n",
       "      <td>1286</td>\n",
       "    </tr>\n",
       "    <tr>\n",
       "      <th>Italy</th>\n",
       "      <td>15</td>\n",
       "      <td>70</td>\n",
       "      <td>116</td>\n",
       "      <td>119</td>\n",
       "      <td>320</td>\n",
       "      <td>621</td>\n",
       "    </tr>\n",
       "    <tr>\n",
       "      <th>France</th>\n",
       "      <td>7</td>\n",
       "      <td>21</td>\n",
       "      <td>35</td>\n",
       "      <td>25</td>\n",
       "      <td>88</td>\n",
       "      <td>186</td>\n",
       "    </tr>\n",
       "    <tr>\n",
       "      <th>Switzerland</th>\n",
       "      <td>3</td>\n",
       "      <td>20</td>\n",
       "      <td>34</td>\n",
       "      <td>29</td>\n",
       "      <td>86</td>\n",
       "      <td>169</td>\n",
       "    </tr>\n",
       "    <tr>\n",
       "      <th>United Kingdom</th>\n",
       "      <td>8</td>\n",
       "      <td>14</td>\n",
       "      <td>23</td>\n",
       "      <td>40</td>\n",
       "      <td>85</td>\n",
       "      <td>160</td>\n",
       "    </tr>\n",
       "    <tr>\n",
       "      <th>Netherlands</th>\n",
       "      <td>8</td>\n",
       "      <td>15</td>\n",
       "      <td>22</td>\n",
       "      <td>35</td>\n",
       "      <td>80</td>\n",
       "      <td>156</td>\n",
       "    </tr>\n",
       "    <tr>\n",
       "      <th>Austria</th>\n",
       "      <td>4</td>\n",
       "      <td>13</td>\n",
       "      <td>21</td>\n",
       "      <td>34</td>\n",
       "      <td>72</td>\n",
       "      <td>131</td>\n",
       "    </tr>\n",
       "    <tr>\n",
       "      <th>Belgium</th>\n",
       "      <td>5</td>\n",
       "      <td>4</td>\n",
       "      <td>6</td>\n",
       "      <td>14</td>\n",
       "      <td>29</td>\n",
       "      <td>58</td>\n",
       "    </tr>\n",
       "    <tr>\n",
       "      <th>Portugal</th>\n",
       "      <td>2</td>\n",
       "      <td>4</td>\n",
       "      <td>6</td>\n",
       "      <td>11</td>\n",
       "      <td>23</td>\n",
       "      <td>43</td>\n",
       "    </tr>\n",
       "    <tr>\n",
       "      <th>Germany</th>\n",
       "      <td>1</td>\n",
       "      <td>5</td>\n",
       "      <td>10</td>\n",
       "      <td>2</td>\n",
       "      <td>18</td>\n",
       "      <td>41</td>\n",
       "    </tr>\n",
       "    <tr>\n",
       "      <th>Japan</th>\n",
       "      <td>2</td>\n",
       "      <td>3</td>\n",
       "      <td>3</td>\n",
       "      <td>6</td>\n",
       "      <td>14</td>\n",
       "      <td>29</td>\n",
       "    </tr>\n",
       "    <tr>\n",
       "      <th>Greece</th>\n",
       "      <td>1</td>\n",
       "      <td>1</td>\n",
       "      <td>4</td>\n",
       "      <td>7</td>\n",
       "      <td>13</td>\n",
       "      <td>22</td>\n",
       "    </tr>\n",
       "    <tr>\n",
       "      <th>Canada</th>\n",
       "      <td>1</td>\n",
       "      <td>2</td>\n",
       "      <td>4</td>\n",
       "      <td>2</td>\n",
       "      <td>9</td>\n",
       "      <td>20</td>\n",
       "    </tr>\n",
       "    <tr>\n",
       "      <th>Sweden</th>\n",
       "      <td>1</td>\n",
       "      <td>1</td>\n",
       "      <td>1</td>\n",
       "      <td>3</td>\n",
       "      <td>6</td>\n",
       "      <td>12</td>\n",
       "    </tr>\n",
       "    <tr>\n",
       "      <th>Hungary</th>\n",
       "      <td>1</td>\n",
       "      <td>0</td>\n",
       "      <td>0</td>\n",
       "      <td>4</td>\n",
       "      <td>5</td>\n",
       "      <td>8</td>\n",
       "    </tr>\n",
       "  </tbody>\n",
       "</table>\n",
       "</div>"
      ],
      "text/plain": [
       "rating          SUPER GOLD  GOLD  SILVER  BRONZE  Total_ratings  Score\n",
       "country                                                               \n",
       "Spain                   27   118     246     332            723   1286\n",
       "Italy                   15    70     116     119            320    621\n",
       "France                   7    21      35      25             88    186\n",
       "Switzerland              3    20      34      29             86    169\n",
       "United Kingdom           8    14      23      40             85    160\n",
       "Netherlands              8    15      22      35             80    156\n",
       "Austria                  4    13      21      34             72    131\n",
       "Belgium                  5     4       6      14             29     58\n",
       "Portugal                 2     4       6      11             23     43\n",
       "Germany                  1     5      10       2             18     41\n",
       "Japan                    2     3       3       6             14     29\n",
       "Greece                   1     1       4       7             13     22\n",
       "Canada                   1     2       4       2              9     20\n",
       "Sweden                   1     1       1       3              6     12\n",
       "Hungary                  1     0       0       4              5      8"
      ]
     },
     "execution_count": 47,
     "metadata": {},
     "output_type": "execute_result"
    }
   ],
   "source": [
    "top_n_points.sort_values(by='Score', ascending=False)\n"
   ]
  },
  {
   "attachments": {},
   "cell_type": "markdown",
   "metadata": {},
   "source": [
    "Wait hold on, did we just questionned the entire ranking system of the Olympics Games ?"
   ]
  },
  {
   "attachments": {},
   "cell_type": "markdown",
   "metadata": {},
   "source": [
    "## Top regions\n"
   ]
  },
  {
   "attachments": {},
   "cell_type": "markdown",
   "metadata": {},
   "source": [
    "## Top companies\n"
   ]
  }
 ],
 "metadata": {
  "kernelspec": {
   "display_name": "world-cheese-awards-analysis-3x3cSF_S-py3.11",
   "language": "python",
   "name": "python3"
  },
  "language_info": {
   "codemirror_mode": {
    "name": "ipython",
    "version": 3
   },
   "file_extension": ".py",
   "mimetype": "text/x-python",
   "name": "python",
   "nbconvert_exporter": "python",
   "pygments_lexer": "ipython3",
   "version": "3.11.0"
  },
  "orig_nbformat": 4,
  "vscode": {
   "interpreter": {
    "hash": "e7368a84c7707fbdb31f60a4eb23af055c2f2ad86f14353e5ed6501753f699bb"
   }
  }
 },
 "nbformat": 4,
 "nbformat_minor": 2
}
