{
 "cells": [
  {
   "attachments": {},
   "cell_type": "markdown",
   "metadata": {},
   "source": [
    "# 2021 World Cheese awards analysis\n",
    "-----"
   ]
  },
  {
   "attachments": {},
   "cell_type": "markdown",
   "metadata": {},
   "source": [
    "blablalblacheeseblablablablafranceblablabla"
   ]
  },
  {
   "attachments": {},
   "cell_type": "markdown",
   "metadata": {},
   "source": [
    "## Libraries"
   ]
  },
  {
   "cell_type": "code",
   "execution_count": 21,
   "metadata": {},
   "outputs": [],
   "source": [
    "import os\n",
    "\n",
    "import pandas as pd\n",
    "pd.options.display.max_columns = None\n",
    "import matplotlib.pyplot as plt\n",
    "import seaborn as sns\n",
    "\n",
    "color_palette = sns.color_palette()\n",
    "sns.set_style(\"darkgrid\")"
   ]
  },
  {
   "attachments": {},
   "cell_type": "markdown",
   "metadata": {},
   "source": [
    "## Download the datatset (Optional step)\n",
    "You will normaly need to run this step once.  \n",
    "I am using the `kaggle api` to get the dataset, but you can also directly download it from [here](https://www.kaggle.com/datasets/ericsims/world-cheese-awards-worlds-cheesiest-dataset?select=world_cheese_awards_2021.csv).\n",
    "\n",
    "Regardless the option you choose, the dataset path should be ***(project_root)*/data/world_cheese_awards_2021.csv**."
   ]
  },
  {
   "attachments": {},
   "cell_type": "markdown",
   "metadata": {},
   "source": [
    "### 1. Reading kaggle json credentials\n",
    "You can go run directly 2. if you decided to put the *kaggle.json* file under in */home/[your_user]/.kaggle*"
   ]
  },
  {
   "cell_type": "code",
   "execution_count": 3,
   "metadata": {},
   "outputs": [],
   "source": [
    "import json"
   ]
  },
  {
   "cell_type": "code",
   "execution_count": 4,
   "metadata": {},
   "outputs": [],
   "source": [
    "with open('kaggle.json', 'r', encoding='utf-8') as kaggle_f:\n",
    "    kaggle_creds = json.load(kaggle_f)\n",
    "    \n",
    "os.environ['KAGGLE_USERNAME'] = kaggle_creds['username']\n",
    "os.environ['KAGGLE_KEY'] = kaggle_creds['key']"
   ]
  },
  {
   "attachments": {},
   "cell_type": "markdown",
   "metadata": {},
   "source": [
    "### 2. Download dataset with kaggle sdk"
   ]
  },
  {
   "attachments": {},
   "cell_type": "markdown",
   "metadata": {},
   "source": [
    "After setting kaggle env vars, the kaggle library should be imported without throwing errors"
   ]
  },
  {
   "cell_type": "code",
   "execution_count": 6,
   "metadata": {},
   "outputs": [],
   "source": [
    "import kaggle\n",
    "kaggle.api.authenticate()"
   ]
  },
  {
   "cell_type": "code",
   "execution_count": 10,
   "metadata": {},
   "outputs": [
    {
     "data": {
      "text/plain": [
       "True"
      ]
     },
     "execution_count": 10,
     "metadata": {},
     "output_type": "execute_result"
    }
   ],
   "source": [
    "kaggle.api.dataset_download_file(\n",
    "    'ericsims/world-cheese-awards-worlds-cheesiest-dataset', \n",
    "    'world_cheese_awards_2021.csv', \n",
    "    path='data'\n",
    ")"
   ]
  },
  {
   "attachments": {},
   "cell_type": "markdown",
   "metadata": {},
   "source": [
    "## Import dataset"
   ]
  },
  {
   "cell_type": "code",
   "execution_count": 18,
   "metadata": {},
   "outputs": [],
   "source": [
    "df = pd.read_csv('data/world_cheese_awards_2021.csv', sep=',', index_col=0)     # first csv col is the index"
   ]
  },
  {
   "cell_type": "code",
   "execution_count": 22,
   "metadata": {},
   "outputs": [
    {
     "data": {
      "text/html": [
       "<div>\n",
       "<style scoped>\n",
       "    .dataframe tbody tr th:only-of-type {\n",
       "        vertical-align: middle;\n",
       "    }\n",
       "\n",
       "    .dataframe tbody tr th {\n",
       "        vertical-align: top;\n",
       "    }\n",
       "\n",
       "    .dataframe thead th {\n",
       "        text-align: right;\n",
       "    }\n",
       "</style>\n",
       "<table border=\"1\" class=\"dataframe\">\n",
       "  <thead>\n",
       "    <tr style=\"text-align: right;\">\n",
       "      <th></th>\n",
       "      <th>company</th>\n",
       "      <th>product_name</th>\n",
       "      <th>rating</th>\n",
       "      <th>category</th>\n",
       "      <th>country</th>\n",
       "      <th>county</th>\n",
       "    </tr>\n",
       "  </thead>\n",
       "  <tbody>\n",
       "    <tr>\n",
       "      <th>0</th>\n",
       "      <td>Laiteries H. Triballat  Website</td>\n",
       "      <td>Picandou L'Original</td>\n",
       "      <td>GOLD</td>\n",
       "      <td>5001 - Soft goats’ milk cheese plain – fresh</td>\n",
       "      <td>France</td>\n",
       "      <td>NaN</td>\n",
       "    </tr>\n",
       "    <tr>\n",
       "      <th>1</th>\n",
       "      <td>Fromageries Lescure (Savencia)  Website</td>\n",
       "      <td>ISLOS GREEK GOAT CHEESE 150G</td>\n",
       "      <td>BRONZE</td>\n",
       "      <td>5001 - Soft goats’ milk cheese plain – fresh</td>\n",
       "      <td>Greece</td>\n",
       "      <td>NaN</td>\n",
       "    </tr>\n",
       "    <tr>\n",
       "      <th>2</th>\n",
       "      <td>Casale Roccolo azienda agricola biologica  Web...</td>\n",
       "      <td>Caprino Fresco CASALE ROCCOLO</td>\n",
       "      <td>SILVER</td>\n",
       "      <td>5001 - Soft goats’ milk cheese plain – fresh</td>\n",
       "      <td>Italy</td>\n",
       "      <td>NaN</td>\n",
       "    </tr>\n",
       "    <tr>\n",
       "      <th>3</th>\n",
       "      <td>DeJong Cheese  Website</td>\n",
       "      <td>Alphenaer Crumbled Goats Cheese Natural  View ...</td>\n",
       "      <td>BRONZE</td>\n",
       "      <td>5001 - Soft goats’ milk cheese plain – fresh</td>\n",
       "      <td>Netherlands</td>\n",
       "      <td>NaN</td>\n",
       "    </tr>\n",
       "    <tr>\n",
       "      <th>4</th>\n",
       "      <td>DeJong Cheese  Website</td>\n",
       "      <td>Alphenaer Spreadable Goats Cheese Natural  Vie...</td>\n",
       "      <td>BRONZE</td>\n",
       "      <td>5001 - Soft goats’ milk cheese plain – fresh</td>\n",
       "      <td>Netherlands</td>\n",
       "      <td>NaN</td>\n",
       "    </tr>\n",
       "    <tr>\n",
       "      <th>5</th>\n",
       "      <td>Arias - Savencia  Website</td>\n",
       "      <td>Flor de Ronda</td>\n",
       "      <td>BRONZE</td>\n",
       "      <td>5001 - Soft goats’ milk cheese plain – fresh</td>\n",
       "      <td>Spain</td>\n",
       "      <td>NaN</td>\n",
       "    </tr>\n",
       "    <tr>\n",
       "      <th>6</th>\n",
       "      <td>PRODUCTOS ALIMENTARIOS QUESÍ S.L  Website</td>\n",
       "      <td>Queso Fresco de Cabra</td>\n",
       "      <td>BRONZE</td>\n",
       "      <td>5001 - Soft goats’ milk cheese plain – fresh</td>\n",
       "      <td>Spain</td>\n",
       "      <td>NaN</td>\n",
       "    </tr>\n",
       "    <tr>\n",
       "      <th>7</th>\n",
       "      <td>Queseria Valdehornos  Website</td>\n",
       "      <td>VALDEHORNOS Fresco</td>\n",
       "      <td>BRONZE</td>\n",
       "      <td>5001 - Soft goats’ milk cheese plain – fresh</td>\n",
       "      <td>Spain</td>\n",
       "      <td>NaN</td>\n",
       "    </tr>\n",
       "    <tr>\n",
       "      <th>8</th>\n",
       "      <td>Lacteas Cobreros S.A.  Website</td>\n",
       "      <td>Rulo natural de cabra 100g precortado Cobreros</td>\n",
       "      <td>BRONZE</td>\n",
       "      <td>5001 - Soft goats’ milk cheese plain – fresh</td>\n",
       "      <td>Spain</td>\n",
       "      <td>NaN</td>\n",
       "    </tr>\n",
       "    <tr>\n",
       "      <th>9</th>\n",
       "      <td>Lacteos Romero Pelaez SI (Quesos Y Besos)  Web...</td>\n",
       "      <td>QUESO FRESCO QUESOS Y BESOS</td>\n",
       "      <td>BRONZE</td>\n",
       "      <td>5001 - Soft goats’ milk cheese plain – fresh</td>\n",
       "      <td>Spain</td>\n",
       "      <td>NaN</td>\n",
       "    </tr>\n",
       "  </tbody>\n",
       "</table>\n",
       "</div>"
      ],
      "text/plain": [
       "                                             company  \\\n",
       "0                    Laiteries H. Triballat  Website   \n",
       "1            Fromageries Lescure (Savencia)  Website   \n",
       "2  Casale Roccolo azienda agricola biologica  Web...   \n",
       "3                             DeJong Cheese  Website   \n",
       "4                             DeJong Cheese  Website   \n",
       "5                          Arias - Savencia  Website   \n",
       "6          PRODUCTOS ALIMENTARIOS QUESÍ S.L  Website   \n",
       "7                      Queseria Valdehornos  Website   \n",
       "8                     Lacteas Cobreros S.A.  Website   \n",
       "9  Lacteos Romero Pelaez SI (Quesos Y Besos)  Web...   \n",
       "\n",
       "                                        product_name  rating  \\\n",
       "0                                Picandou L'Original    GOLD   \n",
       "1                       ISLOS GREEK GOAT CHEESE 150G  BRONZE   \n",
       "2                      Caprino Fresco CASALE ROCCOLO  SILVER   \n",
       "3  Alphenaer Crumbled Goats Cheese Natural  View ...  BRONZE   \n",
       "4  Alphenaer Spreadable Goats Cheese Natural  Vie...  BRONZE   \n",
       "5                                      Flor de Ronda  BRONZE   \n",
       "6                              Queso Fresco de Cabra  BRONZE   \n",
       "7                                 VALDEHORNOS Fresco  BRONZE   \n",
       "8     Rulo natural de cabra 100g precortado Cobreros  BRONZE   \n",
       "9                        QUESO FRESCO QUESOS Y BESOS  BRONZE   \n",
       "\n",
       "                                       category      country county  \n",
       "0  5001 - Soft goats’ milk cheese plain – fresh       France    NaN  \n",
       "1  5001 - Soft goats’ milk cheese plain – fresh       Greece    NaN  \n",
       "2  5001 - Soft goats’ milk cheese plain – fresh        Italy    NaN  \n",
       "3  5001 - Soft goats’ milk cheese plain – fresh  Netherlands    NaN  \n",
       "4  5001 - Soft goats’ milk cheese plain – fresh  Netherlands    NaN  \n",
       "5  5001 - Soft goats’ milk cheese plain – fresh        Spain    NaN  \n",
       "6  5001 - Soft goats’ milk cheese plain – fresh        Spain    NaN  \n",
       "7  5001 - Soft goats’ milk cheese plain – fresh        Spain    NaN  \n",
       "8  5001 - Soft goats’ milk cheese plain – fresh        Spain    NaN  \n",
       "9  5001 - Soft goats’ milk cheese plain – fresh        Spain    NaN  "
      ]
     },
     "execution_count": 22,
     "metadata": {},
     "output_type": "execute_result"
    }
   ],
   "source": [
    "df.head(n=10)"
   ]
  },
  {
   "cell_type": "code",
   "execution_count": 20,
   "metadata": {},
   "outputs": [
    {
     "data": {
      "text/html": [
       "<div>\n",
       "<style scoped>\n",
       "    .dataframe tbody tr th:only-of-type {\n",
       "        vertical-align: middle;\n",
       "    }\n",
       "\n",
       "    .dataframe tbody tr th {\n",
       "        vertical-align: top;\n",
       "    }\n",
       "\n",
       "    .dataframe thead th {\n",
       "        text-align: right;\n",
       "    }\n",
       "</style>\n",
       "<table border=\"1\" class=\"dataframe\">\n",
       "  <thead>\n",
       "    <tr style=\"text-align: right;\">\n",
       "      <th></th>\n",
       "      <th>company</th>\n",
       "      <th>product_name</th>\n",
       "      <th>rating</th>\n",
       "      <th>category</th>\n",
       "      <th>country</th>\n",
       "      <th>county</th>\n",
       "    </tr>\n",
       "  </thead>\n",
       "  <tbody>\n",
       "    <tr>\n",
       "      <th>1731</th>\n",
       "      <td>Quattro Portoni s.r.l. – Società Agricola  Web...</td>\n",
       "      <td>BLU DI BUFALA MUSCAT</td>\n",
       "      <td>GOLD</td>\n",
       "      <td>5706 - Buffalo's milk cheese with additives</td>\n",
       "      <td>Italy</td>\n",
       "      <td>NaN</td>\n",
       "    </tr>\n",
       "    <tr>\n",
       "      <th>1732</th>\n",
       "      <td>Berrys Creek Gourmet Cheese  Website</td>\n",
       "      <td>Riverine Blue</td>\n",
       "      <td>SILVER</td>\n",
       "      <td>5707 - Buffalo's milk cheese blue</td>\n",
       "      <td>Australia</td>\n",
       "      <td>NaN</td>\n",
       "    </tr>\n",
       "    <tr>\n",
       "      <th>1733</th>\n",
       "      <td>Quattro Portoni s.r.l. – Società Agricola  Web...</td>\n",
       "      <td>BLU DI BUFALA QUATTRO PORTONI  View  Stockists</td>\n",
       "      <td>BRONZE</td>\n",
       "      <td>5707 - Buffalo's milk cheese blue</td>\n",
       "      <td>Italy</td>\n",
       "      <td>NaN</td>\n",
       "    </tr>\n",
       "    <tr>\n",
       "      <th>1734</th>\n",
       "      <td>Caseificio Defendi Luigi SRL  Website</td>\n",
       "      <td>BAFFALO BLU</td>\n",
       "      <td>SILVER</td>\n",
       "      <td>5707 - Buffalo's milk cheese blue</td>\n",
       "      <td>Italy</td>\n",
       "      <td>NaN</td>\n",
       "    </tr>\n",
       "    <tr>\n",
       "      <th>1735</th>\n",
       "      <td>Shepherds Purse Cheeses Ltd.  Website</td>\n",
       "      <td>Buffalo Blue</td>\n",
       "      <td>SUPER GOLD</td>\n",
       "      <td>5707 - Buffalo's milk cheese blue</td>\n",
       "      <td>United Kingdom</td>\n",
       "      <td>North Yorkshire</td>\n",
       "    </tr>\n",
       "    <tr>\n",
       "      <th>1736</th>\n",
       "      <td>Macroom Buffalo Cheese Products  Website</td>\n",
       "      <td>Macroom Buffalo Ricotta 200g</td>\n",
       "      <td>SILVER</td>\n",
       "      <td>5709 - Ricotta made with buffalos' milk</td>\n",
       "      <td>Ireland</td>\n",
       "      <td>NaN</td>\n",
       "    </tr>\n",
       "    <tr>\n",
       "      <th>1737</th>\n",
       "      <td>Diaccialone Società Agricola  Website</td>\n",
       "      <td>Ricotta di Bufala 250g</td>\n",
       "      <td>BRONZE</td>\n",
       "      <td>5709 - Ricotta made with buffalos' milk</td>\n",
       "      <td>Italy</td>\n",
       "      <td>NaN</td>\n",
       "    </tr>\n",
       "    <tr>\n",
       "      <th>1738</th>\n",
       "      <td>Macroom Buffalo Cheese Products  Website</td>\n",
       "      <td>Macroom Buffalo Greek Style Cheese 180g</td>\n",
       "      <td>BRONZE</td>\n",
       "      <td>5710 - Any other buffalo's milk cheese not in ...</td>\n",
       "      <td>Ireland</td>\n",
       "      <td>NaN</td>\n",
       "    </tr>\n",
       "    <tr>\n",
       "      <th>1739</th>\n",
       "      <td>CILENTO SPA  Website</td>\n",
       "      <td>Lactose free Mozzarella di Bufala Campana PDO ...</td>\n",
       "      <td>SILVER</td>\n",
       "      <td>5710 - Any other buffalo's milk cheese not in ...</td>\n",
       "      <td>Italy</td>\n",
       "      <td>NaN</td>\n",
       "    </tr>\n",
       "    <tr>\n",
       "      <th>1740</th>\n",
       "      <td>Quattro Portoni s.r.l. – Società Agricola  Web...</td>\n",
       "      <td>QUADRELLO  View  Stockists</td>\n",
       "      <td>SILVER</td>\n",
       "      <td>5710 - Any other buffalo's milk cheese not in ...</td>\n",
       "      <td>Italy</td>\n",
       "      <td>NaN</td>\n",
       "    </tr>\n",
       "  </tbody>\n",
       "</table>\n",
       "</div>"
      ],
      "text/plain": [
       "                                                company  \\\n",
       "1731  Quattro Portoni s.r.l. – Società Agricola  Web...   \n",
       "1732               Berrys Creek Gourmet Cheese  Website   \n",
       "1733  Quattro Portoni s.r.l. – Società Agricola  Web...   \n",
       "1734              Caseificio Defendi Luigi SRL  Website   \n",
       "1735              Shepherds Purse Cheeses Ltd.  Website   \n",
       "1736           Macroom Buffalo Cheese Products  Website   \n",
       "1737              Diaccialone Società Agricola  Website   \n",
       "1738           Macroom Buffalo Cheese Products  Website   \n",
       "1739                               CILENTO SPA  Website   \n",
       "1740  Quattro Portoni s.r.l. – Società Agricola  Web...   \n",
       "\n",
       "                                           product_name      rating  \\\n",
       "1731                               BLU DI BUFALA MUSCAT        GOLD   \n",
       "1732                                      Riverine Blue      SILVER   \n",
       "1733     BLU DI BUFALA QUATTRO PORTONI  View  Stockists      BRONZE   \n",
       "1734                                        BAFFALO BLU      SILVER   \n",
       "1735                                       Buffalo Blue  SUPER GOLD   \n",
       "1736                       Macroom Buffalo Ricotta 200g      SILVER   \n",
       "1737                             Ricotta di Bufala 250g      BRONZE   \n",
       "1738            Macroom Buffalo Greek Style Cheese 180g      BRONZE   \n",
       "1739  Lactose free Mozzarella di Bufala Campana PDO ...      SILVER   \n",
       "1740                         QUADRELLO  View  Stockists      SILVER   \n",
       "\n",
       "                                               category         country  \\\n",
       "1731        5706 - Buffalo's milk cheese with additives           Italy   \n",
       "1732                  5707 - Buffalo's milk cheese blue       Australia   \n",
       "1733                  5707 - Buffalo's milk cheese blue           Italy   \n",
       "1734                  5707 - Buffalo's milk cheese blue           Italy   \n",
       "1735                  5707 - Buffalo's milk cheese blue  United Kingdom   \n",
       "1736            5709 - Ricotta made with buffalos' milk         Ireland   \n",
       "1737            5709 - Ricotta made with buffalos' milk           Italy   \n",
       "1738  5710 - Any other buffalo's milk cheese not in ...         Ireland   \n",
       "1739  5710 - Any other buffalo's milk cheese not in ...           Italy   \n",
       "1740  5710 - Any other buffalo's milk cheese not in ...           Italy   \n",
       "\n",
       "               county  \n",
       "1731              NaN  \n",
       "1732              NaN  \n",
       "1733              NaN  \n",
       "1734              NaN  \n",
       "1735  North Yorkshire  \n",
       "1736              NaN  \n",
       "1737              NaN  \n",
       "1738              NaN  \n",
       "1739              NaN  \n",
       "1740              NaN  "
      ]
     },
     "execution_count": 20,
     "metadata": {},
     "output_type": "execute_result"
    }
   ],
   "source": [
    "df.tail(n=10)"
   ]
  }
 ],
 "metadata": {
  "kernelspec": {
   "display_name": "world-cheese-awards-analysis-3x3cSF_S-py3.11",
   "language": "python",
   "name": "python3"
  },
  "language_info": {
   "codemirror_mode": {
    "name": "ipython",
    "version": 3
   },
   "file_extension": ".py",
   "mimetype": "text/x-python",
   "name": "python",
   "nbconvert_exporter": "python",
   "pygments_lexer": "ipython3",
   "version": "3.11.0"
  },
  "orig_nbformat": 4,
  "vscode": {
   "interpreter": {
    "hash": "e7368a84c7707fbdb31f60a4eb23af055c2f2ad86f14353e5ed6501753f699bb"
   }
  }
 },
 "nbformat": 4,
 "nbformat_minor": 2
}
