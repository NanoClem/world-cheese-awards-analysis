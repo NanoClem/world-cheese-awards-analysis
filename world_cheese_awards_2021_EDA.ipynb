{
 "cells": [
  {
   "attachments": {},
   "cell_type": "markdown",
   "metadata": {},
   "source": [
    "# 2021 World Cheese awards analysis\n",
    "-----"
   ]
  },
  {
   "attachments": {},
   "cell_type": "markdown",
   "metadata": {},
   "source": [
    "blablalblacheeseblablablablafranceblablabla"
   ]
  },
  {
   "attachments": {},
   "cell_type": "markdown",
   "metadata": {},
   "source": [
    "## Libraries"
   ]
  },
  {
   "cell_type": "code",
   "execution_count": 314,
   "metadata": {},
   "outputs": [],
   "source": [
    "import os\n",
    "\n",
    "import pandas as pd\n",
    "pd.set_option('display.max_columns', None)\n",
    "pd.set_option('max_colwidth', None)\n",
    "\n",
    "import matplotlib.pyplot as plt\n",
    "import seaborn as sns\n",
    "\n",
    "color_palette = sns.color_palette()\n",
    "sns.set_style(\"darkgrid\")"
   ]
  },
  {
   "attachments": {},
   "cell_type": "markdown",
   "metadata": {},
   "source": [
    "## Download the datatset (Optional step)\n",
    "You will normaly need to run this step once.  \n",
    "I am using the `kaggle api` to get the dataset, but you can also directly download it from [here](https://www.kaggle.com/datasets/ericsims/world-cheese-awards-worlds-cheesiest-dataset?select=world_cheese_awards_2021.csv).\n",
    "\n",
    "Regardless the option you choose, the dataset path should be ***(project_root)*/data/world_cheese_awards_2021.csv**."
   ]
  },
  {
   "attachments": {},
   "cell_type": "markdown",
   "metadata": {},
   "source": [
    "### 1. Reading kaggle json credentials\n",
    "You can go run directly 2. if you decided to put the *kaggle.json* file under in */home/[your_user]/.kaggle*"
   ]
  },
  {
   "cell_type": "code",
   "execution_count": 315,
   "metadata": {},
   "outputs": [],
   "source": [
    "import json"
   ]
  },
  {
   "cell_type": "code",
   "execution_count": 316,
   "metadata": {},
   "outputs": [],
   "source": [
    "with open('kaggle.json', 'r', encoding='utf-8') as kaggle_f:\n",
    "    kaggle_creds = json.load(kaggle_f)\n",
    "    \n",
    "os.environ['KAGGLE_USERNAME'] = kaggle_creds['username']\n",
    "os.environ['KAGGLE_KEY'] = kaggle_creds['key']"
   ]
  },
  {
   "attachments": {},
   "cell_type": "markdown",
   "metadata": {},
   "source": [
    "### 2. Download dataset with kaggle sdk"
   ]
  },
  {
   "attachments": {},
   "cell_type": "markdown",
   "metadata": {},
   "source": [
    "After setting kaggle env vars, the kaggle library should be imported without throwing errors"
   ]
  },
  {
   "cell_type": "code",
   "execution_count": 317,
   "metadata": {},
   "outputs": [],
   "source": [
    "import kaggle\n",
    "kaggle.api.authenticate()"
   ]
  },
  {
   "cell_type": "code",
   "execution_count": 318,
   "metadata": {},
   "outputs": [
    {
     "data": {
      "text/plain": [
       "False"
      ]
     },
     "execution_count": 318,
     "metadata": {},
     "output_type": "execute_result"
    }
   ],
   "source": [
    "kaggle.api.dataset_download_file(\n",
    "    'ericsims/world-cheese-awards-worlds-cheesiest-dataset', \n",
    "    'world_cheese_awards_2021.csv', \n",
    "    path='data'\n",
    ")"
   ]
  },
  {
   "attachments": {},
   "cell_type": "markdown",
   "metadata": {},
   "source": [
    "## Import dataset"
   ]
  },
  {
   "cell_type": "code",
   "execution_count": 319,
   "metadata": {},
   "outputs": [],
   "source": [
    "df = pd.read_csv('data/world_cheese_awards_2021.csv', sep=',', index_col=0)     # first csv col is the index"
   ]
  },
  {
   "cell_type": "code",
   "execution_count": 320,
   "metadata": {},
   "outputs": [
    {
     "data": {
      "text/plain": [
       "(1741, 6)"
      ]
     },
     "execution_count": 320,
     "metadata": {},
     "output_type": "execute_result"
    }
   ],
   "source": [
    "df.shape"
   ]
  },
  {
   "cell_type": "code",
   "execution_count": 321,
   "metadata": {},
   "outputs": [
    {
     "data": {
      "text/plain": [
       "company         object\n",
       "product_name    object\n",
       "rating          object\n",
       "category        object\n",
       "country         object\n",
       "county          object\n",
       "dtype: object"
      ]
     },
     "execution_count": 321,
     "metadata": {},
     "output_type": "execute_result"
    }
   ],
   "source": [
    "df.dtypes"
   ]
  },
  {
   "cell_type": "code",
   "execution_count": 322,
   "metadata": {},
   "outputs": [
    {
     "data": {
      "text/html": [
       "<div>\n",
       "<style scoped>\n",
       "    .dataframe tbody tr th:only-of-type {\n",
       "        vertical-align: middle;\n",
       "    }\n",
       "\n",
       "    .dataframe tbody tr th {\n",
       "        vertical-align: top;\n",
       "    }\n",
       "\n",
       "    .dataframe thead th {\n",
       "        text-align: right;\n",
       "    }\n",
       "</style>\n",
       "<table border=\"1\" class=\"dataframe\">\n",
       "  <thead>\n",
       "    <tr style=\"text-align: right;\">\n",
       "      <th></th>\n",
       "      <th>company</th>\n",
       "      <th>product_name</th>\n",
       "      <th>rating</th>\n",
       "      <th>category</th>\n",
       "      <th>country</th>\n",
       "      <th>county</th>\n",
       "    </tr>\n",
       "  </thead>\n",
       "  <tbody>\n",
       "    <tr>\n",
       "      <th>0</th>\n",
       "      <td>Laiteries H. Triballat  Website</td>\n",
       "      <td>Picandou L'Original</td>\n",
       "      <td>GOLD</td>\n",
       "      <td>5001 - Soft goats’ milk cheese plain – fresh</td>\n",
       "      <td>France</td>\n",
       "      <td>NaN</td>\n",
       "    </tr>\n",
       "    <tr>\n",
       "      <th>1</th>\n",
       "      <td>Fromageries Lescure (Savencia)  Website</td>\n",
       "      <td>ISLOS GREEK GOAT CHEESE 150G</td>\n",
       "      <td>BRONZE</td>\n",
       "      <td>5001 - Soft goats’ milk cheese plain – fresh</td>\n",
       "      <td>Greece</td>\n",
       "      <td>NaN</td>\n",
       "    </tr>\n",
       "    <tr>\n",
       "      <th>2</th>\n",
       "      <td>Casale Roccolo azienda agricola biologica  Website</td>\n",
       "      <td>Caprino Fresco CASALE ROCCOLO</td>\n",
       "      <td>SILVER</td>\n",
       "      <td>5001 - Soft goats’ milk cheese plain – fresh</td>\n",
       "      <td>Italy</td>\n",
       "      <td>NaN</td>\n",
       "    </tr>\n",
       "    <tr>\n",
       "      <th>3</th>\n",
       "      <td>DeJong Cheese  Website</td>\n",
       "      <td>Alphenaer Crumbled Goats Cheese Natural  View  Stockists</td>\n",
       "      <td>BRONZE</td>\n",
       "      <td>5001 - Soft goats’ milk cheese plain – fresh</td>\n",
       "      <td>Netherlands</td>\n",
       "      <td>NaN</td>\n",
       "    </tr>\n",
       "    <tr>\n",
       "      <th>4</th>\n",
       "      <td>DeJong Cheese  Website</td>\n",
       "      <td>Alphenaer Spreadable Goats Cheese Natural  View  Stockists</td>\n",
       "      <td>BRONZE</td>\n",
       "      <td>5001 - Soft goats’ milk cheese plain – fresh</td>\n",
       "      <td>Netherlands</td>\n",
       "      <td>NaN</td>\n",
       "    </tr>\n",
       "  </tbody>\n",
       "</table>\n",
       "</div>"
      ],
      "text/plain": [
       "                                              company  \\\n",
       "0                     Laiteries H. Triballat  Website   \n",
       "1             Fromageries Lescure (Savencia)  Website   \n",
       "2  Casale Roccolo azienda agricola biologica  Website   \n",
       "3                              DeJong Cheese  Website   \n",
       "4                              DeJong Cheese  Website   \n",
       "\n",
       "                                                 product_name  rating  \\\n",
       "0                                         Picandou L'Original    GOLD   \n",
       "1                                ISLOS GREEK GOAT CHEESE 150G  BRONZE   \n",
       "2                               Caprino Fresco CASALE ROCCOLO  SILVER   \n",
       "3    Alphenaer Crumbled Goats Cheese Natural  View  Stockists  BRONZE   \n",
       "4  Alphenaer Spreadable Goats Cheese Natural  View  Stockists  BRONZE   \n",
       "\n",
       "                                       category      country county  \n",
       "0  5001 - Soft goats’ milk cheese plain – fresh       France    NaN  \n",
       "1  5001 - Soft goats’ milk cheese plain – fresh       Greece    NaN  \n",
       "2  5001 - Soft goats’ milk cheese plain – fresh        Italy    NaN  \n",
       "3  5001 - Soft goats’ milk cheese plain – fresh  Netherlands    NaN  \n",
       "4  5001 - Soft goats’ milk cheese plain – fresh  Netherlands    NaN  "
      ]
     },
     "execution_count": 322,
     "metadata": {},
     "output_type": "execute_result"
    }
   ],
   "source": [
    "df.head(n=5)"
   ]
  },
  {
   "cell_type": "code",
   "execution_count": 323,
   "metadata": {},
   "outputs": [
    {
     "data": {
      "text/html": [
       "<div>\n",
       "<style scoped>\n",
       "    .dataframe tbody tr th:only-of-type {\n",
       "        vertical-align: middle;\n",
       "    }\n",
       "\n",
       "    .dataframe tbody tr th {\n",
       "        vertical-align: top;\n",
       "    }\n",
       "\n",
       "    .dataframe thead th {\n",
       "        text-align: right;\n",
       "    }\n",
       "</style>\n",
       "<table border=\"1\" class=\"dataframe\">\n",
       "  <thead>\n",
       "    <tr style=\"text-align: right;\">\n",
       "      <th></th>\n",
       "      <th>company</th>\n",
       "      <th>product_name</th>\n",
       "      <th>rating</th>\n",
       "      <th>category</th>\n",
       "      <th>country</th>\n",
       "      <th>county</th>\n",
       "    </tr>\n",
       "  </thead>\n",
       "  <tbody>\n",
       "    <tr>\n",
       "      <th>1736</th>\n",
       "      <td>Macroom Buffalo Cheese Products  Website</td>\n",
       "      <td>Macroom Buffalo Ricotta 200g</td>\n",
       "      <td>SILVER</td>\n",
       "      <td>5709 - Ricotta made with buffalos' milk</td>\n",
       "      <td>Ireland</td>\n",
       "      <td>NaN</td>\n",
       "    </tr>\n",
       "    <tr>\n",
       "      <th>1737</th>\n",
       "      <td>Diaccialone Società Agricola  Website</td>\n",
       "      <td>Ricotta di Bufala 250g</td>\n",
       "      <td>BRONZE</td>\n",
       "      <td>5709 - Ricotta made with buffalos' milk</td>\n",
       "      <td>Italy</td>\n",
       "      <td>NaN</td>\n",
       "    </tr>\n",
       "    <tr>\n",
       "      <th>1738</th>\n",
       "      <td>Macroom Buffalo Cheese Products  Website</td>\n",
       "      <td>Macroom Buffalo Greek Style Cheese 180g</td>\n",
       "      <td>BRONZE</td>\n",
       "      <td>5710 - Any other buffalo's milk cheese not in any other class</td>\n",
       "      <td>Ireland</td>\n",
       "      <td>NaN</td>\n",
       "    </tr>\n",
       "    <tr>\n",
       "      <th>1739</th>\n",
       "      <td>CILENTO SPA  Website</td>\n",
       "      <td>Lactose free Mozzarella di Bufala Campana PDO 180g</td>\n",
       "      <td>SILVER</td>\n",
       "      <td>5710 - Any other buffalo's milk cheese not in any other class</td>\n",
       "      <td>Italy</td>\n",
       "      <td>NaN</td>\n",
       "    </tr>\n",
       "    <tr>\n",
       "      <th>1740</th>\n",
       "      <td>Quattro Portoni s.r.l. – Società Agricola  Website</td>\n",
       "      <td>QUADRELLO  View  Stockists</td>\n",
       "      <td>SILVER</td>\n",
       "      <td>5710 - Any other buffalo's milk cheese not in any other class</td>\n",
       "      <td>Italy</td>\n",
       "      <td>NaN</td>\n",
       "    </tr>\n",
       "  </tbody>\n",
       "</table>\n",
       "</div>"
      ],
      "text/plain": [
       "                                                 company  \\\n",
       "1736            Macroom Buffalo Cheese Products  Website   \n",
       "1737               Diaccialone Società Agricola  Website   \n",
       "1738            Macroom Buffalo Cheese Products  Website   \n",
       "1739                                CILENTO SPA  Website   \n",
       "1740  Quattro Portoni s.r.l. – Società Agricola  Website   \n",
       "\n",
       "                                            product_name  rating  \\\n",
       "1736                        Macroom Buffalo Ricotta 200g  SILVER   \n",
       "1737                              Ricotta di Bufala 250g  BRONZE   \n",
       "1738             Macroom Buffalo Greek Style Cheese 180g  BRONZE   \n",
       "1739  Lactose free Mozzarella di Bufala Campana PDO 180g  SILVER   \n",
       "1740                          QUADRELLO  View  Stockists  SILVER   \n",
       "\n",
       "                                                           category  country  \\\n",
       "1736                        5709 - Ricotta made with buffalos' milk  Ireland   \n",
       "1737                        5709 - Ricotta made with buffalos' milk    Italy   \n",
       "1738  5710 - Any other buffalo's milk cheese not in any other class  Ireland   \n",
       "1739  5710 - Any other buffalo's milk cheese not in any other class    Italy   \n",
       "1740  5710 - Any other buffalo's milk cheese not in any other class    Italy   \n",
       "\n",
       "     county  \n",
       "1736    NaN  \n",
       "1737    NaN  \n",
       "1738    NaN  \n",
       "1739    NaN  \n",
       "1740    NaN  "
      ]
     },
     "execution_count": 323,
     "metadata": {},
     "output_type": "execute_result"
    }
   ],
   "source": [
    "df.tail(n=5)"
   ]
  },
  {
   "attachments": {},
   "cell_type": "markdown",
   "metadata": {},
   "source": [
    "## Missing data\n",
    "Not much missing data except in *county* column.  \n",
    "Let's keep in mind that county is applicable only when the country is UK.  \n",
    "So nothing much to fear regarding missing values, the dataset looks pretty full."
   ]
  },
  {
   "cell_type": "code",
   "execution_count": 324,
   "metadata": {},
   "outputs": [
    {
     "data": {
      "text/plain": [
       "county    0.951177\n",
       "dtype: float64"
      ]
     },
     "execution_count": 324,
     "metadata": {},
     "output_type": "execute_result"
    }
   ],
   "source": [
    "per_missing = df.isna().sum() / df.shape[0]\n",
    "per_missing[per_missing > 0].sort_values(ascending=False)"
   ]
  },
  {
   "cell_type": "code",
   "execution_count": 325,
   "metadata": {},
   "outputs": [
    {
     "data": {
      "text/plain": [
       "Somerset             19\n",
       "Nottinghamshire       6\n",
       "West Yorkshire        6\n",
       "Leicestershire        6\n",
       "Gloucestershire       5\n",
       "Cornwall              5\n",
       "Berkshire             4\n",
       "North Yorkshire       4\n",
       "Devon                 3\n",
       "Greater London        3\n",
       "Kent                  3\n",
       "Hampshire             3\n",
       "Wiltshire             2\n",
       "Western Isles         2\n",
       "Oxfordshire           2\n",
       "Ceredigion            2\n",
       "North Ayrshire        2\n",
       "Powys                 1\n",
       "Dublin                1\n",
       "Fife                  1\n",
       "Perth and Kinross     1\n",
       "Dorset                1\n",
       "Isle of Man           1\n",
       "Lancashire            1\n",
       "West Sussex           1\n",
       "Name: county, dtype: int64"
      ]
     },
     "execution_count": 325,
     "metadata": {},
     "output_type": "execute_result"
    }
   ],
   "source": [
    "df.county.value_counts()"
   ]
  },
  {
   "cell_type": "code",
   "execution_count": 326,
   "metadata": {},
   "outputs": [
    {
     "data": {
      "text/plain": [
       "United Kingdom    85\n",
       "Name: country, dtype: int64"
      ]
     },
     "execution_count": 326,
     "metadata": {},
     "output_type": "execute_result"
    }
   ],
   "source": [
    "df.country[df.county.notna()].value_counts()"
   ]
  },
  {
   "attachments": {},
   "cell_type": "markdown",
   "metadata": {},
   "source": [
    "## Data cleaning"
   ]
  },
  {
   "attachments": {},
   "cell_type": "markdown",
   "metadata": {},
   "source": [
    "### Companies's name"
   ]
  },
  {
   "cell_type": "code",
   "execution_count": 327,
   "metadata": {},
   "outputs": [
    {
     "data": {
      "text/plain": [
       "0                        Laiteries H. Triballa\n",
       "1               Fromageries Lescure (Savencia)\n",
       "2    Casale Roccolo azienda agricola biologica\n",
       "3                                    DeJong Ch\n",
       "4                                    DeJong Ch\n",
       "Name: company, dtype: object"
      ]
     },
     "execution_count": 327,
     "metadata": {},
     "output_type": "execute_result"
    }
   ],
   "source": [
    "df.company = df.company.apply(lambda x: x.rstrip(' Website'))\n",
    "df.company.head(5)"
   ]
  },
  {
   "attachments": {},
   "cell_type": "markdown",
   "metadata": {},
   "source": [
    "## Feature engineering"
   ]
  },
  {
   "attachments": {},
   "cell_type": "markdown",
   "metadata": {},
   "source": [
    "### Separate category code and name"
   ]
  },
  {
   "cell_type": "code",
   "execution_count": 328,
   "metadata": {},
   "outputs": [],
   "source": [
    "def create_features(df: pd.DataFrame) -> pd.DataFrame:\n",
    "    _df = df.copy()\n",
    "    _df['cat_code'] = _df.category.apply(lambda x: x.split(' - ')[0])\n",
    "    _df.cat_code = pd.to_numeric(_df.cat_code)\n",
    "    _df.category = _df.category.apply(lambda x: x.split(' - ')[1])\n",
    "    \n",
    "    return _df"
   ]
  },
  {
   "cell_type": "code",
   "execution_count": 329,
   "metadata": {},
   "outputs": [],
   "source": [
    "df = create_features(df)"
   ]
  },
  {
   "cell_type": "code",
   "execution_count": 330,
   "metadata": {},
   "outputs": [
    {
     "data": {
      "text/html": [
       "<div>\n",
       "<style scoped>\n",
       "    .dataframe tbody tr th:only-of-type {\n",
       "        vertical-align: middle;\n",
       "    }\n",
       "\n",
       "    .dataframe tbody tr th {\n",
       "        vertical-align: top;\n",
       "    }\n",
       "\n",
       "    .dataframe thead th {\n",
       "        text-align: right;\n",
       "    }\n",
       "</style>\n",
       "<table border=\"1\" class=\"dataframe\">\n",
       "  <thead>\n",
       "    <tr style=\"text-align: right;\">\n",
       "      <th></th>\n",
       "      <th>category</th>\n",
       "      <th>cat_code</th>\n",
       "    </tr>\n",
       "  </thead>\n",
       "  <tbody>\n",
       "    <tr>\n",
       "      <th>0</th>\n",
       "      <td>Soft goats’ milk cheese plain – fresh</td>\n",
       "      <td>5001</td>\n",
       "    </tr>\n",
       "    <tr>\n",
       "      <th>1</th>\n",
       "      <td>Soft goats’ milk cheese plain – fresh</td>\n",
       "      <td>5001</td>\n",
       "    </tr>\n",
       "    <tr>\n",
       "      <th>2</th>\n",
       "      <td>Soft goats’ milk cheese plain – fresh</td>\n",
       "      <td>5001</td>\n",
       "    </tr>\n",
       "    <tr>\n",
       "      <th>3</th>\n",
       "      <td>Soft goats’ milk cheese plain – fresh</td>\n",
       "      <td>5001</td>\n",
       "    </tr>\n",
       "    <tr>\n",
       "      <th>4</th>\n",
       "      <td>Soft goats’ milk cheese plain – fresh</td>\n",
       "      <td>5001</td>\n",
       "    </tr>\n",
       "    <tr>\n",
       "      <th>...</th>\n",
       "      <td>...</td>\n",
       "      <td>...</td>\n",
       "    </tr>\n",
       "    <tr>\n",
       "      <th>1736</th>\n",
       "      <td>Ricotta made with buffalos' milk</td>\n",
       "      <td>5709</td>\n",
       "    </tr>\n",
       "    <tr>\n",
       "      <th>1737</th>\n",
       "      <td>Ricotta made with buffalos' milk</td>\n",
       "      <td>5709</td>\n",
       "    </tr>\n",
       "    <tr>\n",
       "      <th>1738</th>\n",
       "      <td>Any other buffalo's milk cheese not in any other class</td>\n",
       "      <td>5710</td>\n",
       "    </tr>\n",
       "    <tr>\n",
       "      <th>1739</th>\n",
       "      <td>Any other buffalo's milk cheese not in any other class</td>\n",
       "      <td>5710</td>\n",
       "    </tr>\n",
       "    <tr>\n",
       "      <th>1740</th>\n",
       "      <td>Any other buffalo's milk cheese not in any other class</td>\n",
       "      <td>5710</td>\n",
       "    </tr>\n",
       "  </tbody>\n",
       "</table>\n",
       "<p>1741 rows × 2 columns</p>\n",
       "</div>"
      ],
      "text/plain": [
       "                                                    category  cat_code\n",
       "0                      Soft goats’ milk cheese plain – fresh      5001\n",
       "1                      Soft goats’ milk cheese plain – fresh      5001\n",
       "2                      Soft goats’ milk cheese plain – fresh      5001\n",
       "3                      Soft goats’ milk cheese plain – fresh      5001\n",
       "4                      Soft goats’ milk cheese plain – fresh      5001\n",
       "...                                                      ...       ...\n",
       "1736                        Ricotta made with buffalos' milk      5709\n",
       "1737                        Ricotta made with buffalos' milk      5709\n",
       "1738  Any other buffalo's milk cheese not in any other class      5710\n",
       "1739  Any other buffalo's milk cheese not in any other class      5710\n",
       "1740  Any other buffalo's milk cheese not in any other class      5710\n",
       "\n",
       "[1741 rows x 2 columns]"
      ]
     },
     "execution_count": 330,
     "metadata": {},
     "output_type": "execute_result"
    }
   ],
   "source": [
    "df[['category', 'cat_code']]"
   ]
  },
  {
   "attachments": {},
   "cell_type": "markdown",
   "metadata": {},
   "source": [
    "## Target analysis"
   ]
  },
  {
   "cell_type": "code",
   "execution_count": 331,
   "metadata": {},
   "outputs": [
    {
     "data": {
      "text/plain": [
       "('rating',\n",
       " ['company', 'product_name', 'category', 'country', 'county', 'cat_code'])"
      ]
     },
     "execution_count": 331,
     "metadata": {},
     "output_type": "execute_result"
    }
   ],
   "source": [
    "target = 'rating'\n",
    "features = [col for col in df.columns if col != target]\n",
    "target, features"
   ]
  },
  {
   "cell_type": "code",
   "execution_count": 402,
   "metadata": {},
   "outputs": [
    {
     "data": {
      "image/png": "[encoded data removed]",
      "text/plain": [
       "<Figure size 640x480 with 1 Axes>"
      ]
     },
     "metadata": {},
     "output_type": "display_data"
    }
   ],
   "source": [
    "ax = df[target].value_counts().plot.bar()\n",
    "ax.bar_label(ax.containers[0])\n",
    "plt.xticks(rotation=0)\n",
    "plt.title('Rating distribution')\n",
    "plt.show()"
   ]
  },
  {
   "attachments": {},
   "cell_type": "markdown",
   "metadata": {},
   "source": [
    "## Who got the most appreciated cheeses ? Top 15 countries per rating"
   ]
  },
  {
   "cell_type": "code",
   "execution_count": 478,
   "metadata": {},
   "outputs": [],
   "source": [
    "df_ratings = df[['country', 'rating']]\n",
    "ratings = ['SUPER GOLD', 'GOLD', 'SILVER', 'BRONZE']\n",
    "n = 100"
   ]
  },
  {
   "cell_type": "code",
   "execution_count": 479,
   "metadata": {},
   "outputs": [],
   "source": [
    "def get_top_countries(df: pd.DataFrame, rating_cat: str, n: int=5):\n",
    "    \"\"\"d\"\"\"\n",
    "    coutries_rt = df[df.rating == rating_cat].groupby('country').rating.count()\n",
    "    sorted_rt = coutries_rt.sort_values(ascending=False)\n",
    "    df_rt = sorted_rt.to_frame(name=rating_cat).reset_index()\n",
    "    return df_rt.head(n)"
   ]
  },
  {
   "cell_type": "code",
   "execution_count": 480,
   "metadata": {},
   "outputs": [],
   "source": [
    "def get_top_ranking(df, rating_cats: list[str], n: int=5) -> pd.DataFrame:\n",
    "    \"\"\"d\"\"\"\n",
    "    top_all_rt = None\n",
    "    \n",
    "    for rt in rating_cats:\n",
    "        top_rt = get_top_countries(df, rt, n)\n",
    "        \n",
    "        if top_all_rt is None:\n",
    "            top_all_rt = top_rt\n",
    "        else:\n",
    "            top_all_rt = top_all_rt.merge(top_rt, how='inner', on='country').fillna(0)   # TODO : fix ommited values by merging\n",
    "    \n",
    "    # Additional columns\n",
    "    total = top_all_rt.sum(axis=1, numeric_only=True)   \n",
    "    top_all_rt['TOTAL'] = total                     # total number of prizes per country\n",
    "    \n",
    "    top_all_rt = top_all_rt.set_index('country')    # set country as index\n",
    "    top_all_rt = top_all_rt.astype(int)             # cast all columns to int\n",
    "    \n",
    "    return top_all_rt"
   ]
  },
  {
   "attachments": {},
   "cell_type": "markdown",
   "metadata": {},
   "source": [
    "Look at this beautiful cross table !  \n",
    "It shows Spain having the most prizes in every rating.  \n",
    "\"Hey, that's not fair ! Spain had *way* more cheeses in the competition !\""
   ]
  },
  {
   "cell_type": "code",
   "execution_count": 481,
   "metadata": {},
   "outputs": [
    {
     "data": {
      "text/html": [
       "<div>\n",
       "<style scoped>\n",
       "    .dataframe tbody tr th:only-of-type {\n",
       "        vertical-align: middle;\n",
       "    }\n",
       "\n",
       "    .dataframe tbody tr th {\n",
       "        vertical-align: top;\n",
       "    }\n",
       "\n",
       "    .dataframe thead th {\n",
       "        text-align: right;\n",
       "    }\n",
       "</style>\n",
       "<table border=\"1\" class=\"dataframe\">\n",
       "  <thead>\n",
       "    <tr style=\"text-align: right;\">\n",
       "      <th></th>\n",
       "      <th>SUPER GOLD</th>\n",
       "      <th>GOLD</th>\n",
       "      <th>SILVER</th>\n",
       "      <th>BRONZE</th>\n",
       "      <th>TOTAL</th>\n",
       "    </tr>\n",
       "    <tr>\n",
       "      <th>country</th>\n",
       "      <th></th>\n",
       "      <th></th>\n",
       "      <th></th>\n",
       "      <th></th>\n",
       "      <th></th>\n",
       "    </tr>\n",
       "  </thead>\n",
       "  <tbody>\n",
       "    <tr>\n",
       "      <th>Spain</th>\n",
       "      <td>27</td>\n",
       "      <td>118</td>\n",
       "      <td>246</td>\n",
       "      <td>332</td>\n",
       "      <td>723</td>\n",
       "    </tr>\n",
       "    <tr>\n",
       "      <th>Italy</th>\n",
       "      <td>15</td>\n",
       "      <td>70</td>\n",
       "      <td>116</td>\n",
       "      <td>119</td>\n",
       "      <td>320</td>\n",
       "    </tr>\n",
       "    <tr>\n",
       "      <th>Netherlands</th>\n",
       "      <td>8</td>\n",
       "      <td>15</td>\n",
       "      <td>22</td>\n",
       "      <td>35</td>\n",
       "      <td>80</td>\n",
       "    </tr>\n",
       "    <tr>\n",
       "      <th>United Kingdom</th>\n",
       "      <td>8</td>\n",
       "      <td>14</td>\n",
       "      <td>23</td>\n",
       "      <td>40</td>\n",
       "      <td>85</td>\n",
       "    </tr>\n",
       "    <tr>\n",
       "      <th>France</th>\n",
       "      <td>7</td>\n",
       "      <td>21</td>\n",
       "      <td>35</td>\n",
       "      <td>25</td>\n",
       "      <td>88</td>\n",
       "    </tr>\n",
       "    <tr>\n",
       "      <th>Belgium</th>\n",
       "      <td>5</td>\n",
       "      <td>4</td>\n",
       "      <td>6</td>\n",
       "      <td>14</td>\n",
       "      <td>29</td>\n",
       "    </tr>\n",
       "    <tr>\n",
       "      <th>Austria</th>\n",
       "      <td>4</td>\n",
       "      <td>13</td>\n",
       "      <td>21</td>\n",
       "      <td>34</td>\n",
       "      <td>72</td>\n",
       "    </tr>\n",
       "    <tr>\n",
       "      <th>Switzerland</th>\n",
       "      <td>3</td>\n",
       "      <td>20</td>\n",
       "      <td>34</td>\n",
       "      <td>29</td>\n",
       "      <td>86</td>\n",
       "    </tr>\n",
       "    <tr>\n",
       "      <th>Japan</th>\n",
       "      <td>2</td>\n",
       "      <td>3</td>\n",
       "      <td>3</td>\n",
       "      <td>6</td>\n",
       "      <td>14</td>\n",
       "    </tr>\n",
       "    <tr>\n",
       "      <th>Portugal</th>\n",
       "      <td>2</td>\n",
       "      <td>4</td>\n",
       "      <td>6</td>\n",
       "      <td>11</td>\n",
       "      <td>23</td>\n",
       "    </tr>\n",
       "    <tr>\n",
       "      <th>Germany</th>\n",
       "      <td>1</td>\n",
       "      <td>5</td>\n",
       "      <td>10</td>\n",
       "      <td>2</td>\n",
       "      <td>18</td>\n",
       "    </tr>\n",
       "    <tr>\n",
       "      <th>Greece</th>\n",
       "      <td>1</td>\n",
       "      <td>1</td>\n",
       "      <td>4</td>\n",
       "      <td>7</td>\n",
       "      <td>13</td>\n",
       "    </tr>\n",
       "    <tr>\n",
       "      <th>Ireland</th>\n",
       "      <td>1</td>\n",
       "      <td>2</td>\n",
       "      <td>6</td>\n",
       "      <td>4</td>\n",
       "      <td>13</td>\n",
       "    </tr>\n",
       "    <tr>\n",
       "      <th>Canada</th>\n",
       "      <td>1</td>\n",
       "      <td>2</td>\n",
       "      <td>4</td>\n",
       "      <td>2</td>\n",
       "      <td>9</td>\n",
       "    </tr>\n",
       "    <tr>\n",
       "      <th>Sweden</th>\n",
       "      <td>1</td>\n",
       "      <td>1</td>\n",
       "      <td>1</td>\n",
       "      <td>3</td>\n",
       "      <td>6</td>\n",
       "    </tr>\n",
       "    <tr>\n",
       "      <th>USA</th>\n",
       "      <td>1</td>\n",
       "      <td>9</td>\n",
       "      <td>18</td>\n",
       "      <td>30</td>\n",
       "      <td>58</td>\n",
       "    </tr>\n",
       "  </tbody>\n",
       "</table>\n",
       "</div>"
      ],
      "text/plain": [
       "                SUPER GOLD  GOLD  SILVER  BRONZE  TOTAL\n",
       "country                                                \n",
       "Spain                   27   118     246     332    723\n",
       "Italy                   15    70     116     119    320\n",
       "Netherlands              8    15      22      35     80\n",
       "United Kingdom           8    14      23      40     85\n",
       "France                   7    21      35      25     88\n",
       "Belgium                  5     4       6      14     29\n",
       "Austria                  4    13      21      34     72\n",
       "Switzerland              3    20      34      29     86\n",
       "Japan                    2     3       3       6     14\n",
       "Portugal                 2     4       6      11     23\n",
       "Germany                  1     5      10       2     18\n",
       "Greece                   1     1       4       7     13\n",
       "Ireland                  1     2       6       4     13\n",
       "Canada                   1     2       4       2      9\n",
       "Sweden                   1     1       1       3      6\n",
       "USA                      1     9      18      30     58"
      ]
     },
     "execution_count": 481,
     "metadata": {},
     "output_type": "execute_result"
    }
   ],
   "source": [
    "top_all = get_top_ranking(df_ratings, ratings, n)\n",
    "top_all.sort_values(by='SUPER GOLD', ascending=False)"
   ]
  },
  {
   "attachments": {},
   "cell_type": "markdown",
   "metadata": {},
   "source": [
    "Another type of ranking could be to compute the share of each prize in the total number of obtained prizes for the country. This time, Japan rules !  \n",
    "The cross table gives us interesting insights of the competition !  \n",
    "\"Hey that's not fair ! Japan has only 2 cheeses in the competition ! Isn't this ranking giving an *outrageous* advantage to countries with fewer cheeses ?\""
   ]
  },
  {
   "cell_type": "code",
   "execution_count": 482,
   "metadata": {},
   "outputs": [
    {
     "data": {
      "text/html": [
       "<div>\n",
       "<style scoped>\n",
       "    .dataframe tbody tr th:only-of-type {\n",
       "        vertical-align: middle;\n",
       "    }\n",
       "\n",
       "    .dataframe tbody tr th {\n",
       "        vertical-align: top;\n",
       "    }\n",
       "\n",
       "    .dataframe thead th {\n",
       "        text-align: right;\n",
       "    }\n",
       "</style>\n",
       "<table border=\"1\" class=\"dataframe\">\n",
       "  <thead>\n",
       "    <tr style=\"text-align: right;\">\n",
       "      <th></th>\n",
       "      <th>SUPER GOLD</th>\n",
       "      <th>GOLD</th>\n",
       "      <th>SILVER</th>\n",
       "      <th>BRONZE</th>\n",
       "      <th>TOTAL</th>\n",
       "    </tr>\n",
       "    <tr>\n",
       "      <th>country</th>\n",
       "      <th></th>\n",
       "      <th></th>\n",
       "      <th></th>\n",
       "      <th></th>\n",
       "      <th></th>\n",
       "    </tr>\n",
       "  </thead>\n",
       "  <tbody>\n",
       "    <tr>\n",
       "      <th>Belgium</th>\n",
       "      <td>17.24</td>\n",
       "      <td>13.79</td>\n",
       "      <td>20.69</td>\n",
       "      <td>48.28</td>\n",
       "      <td>29</td>\n",
       "    </tr>\n",
       "    <tr>\n",
       "      <th>Sweden</th>\n",
       "      <td>16.67</td>\n",
       "      <td>16.67</td>\n",
       "      <td>16.67</td>\n",
       "      <td>50.00</td>\n",
       "      <td>6</td>\n",
       "    </tr>\n",
       "    <tr>\n",
       "      <th>Japan</th>\n",
       "      <td>14.29</td>\n",
       "      <td>21.43</td>\n",
       "      <td>21.43</td>\n",
       "      <td>42.86</td>\n",
       "      <td>14</td>\n",
       "    </tr>\n",
       "    <tr>\n",
       "      <th>Canada</th>\n",
       "      <td>11.11</td>\n",
       "      <td>22.22</td>\n",
       "      <td>44.44</td>\n",
       "      <td>22.22</td>\n",
       "      <td>9</td>\n",
       "    </tr>\n",
       "    <tr>\n",
       "      <th>Netherlands</th>\n",
       "      <td>10.00</td>\n",
       "      <td>18.75</td>\n",
       "      <td>27.50</td>\n",
       "      <td>43.75</td>\n",
       "      <td>80</td>\n",
       "    </tr>\n",
       "    <tr>\n",
       "      <th>United Kingdom</th>\n",
       "      <td>9.41</td>\n",
       "      <td>16.47</td>\n",
       "      <td>27.06</td>\n",
       "      <td>47.06</td>\n",
       "      <td>85</td>\n",
       "    </tr>\n",
       "    <tr>\n",
       "      <th>Portugal</th>\n",
       "      <td>8.70</td>\n",
       "      <td>17.39</td>\n",
       "      <td>26.09</td>\n",
       "      <td>47.83</td>\n",
       "      <td>23</td>\n",
       "    </tr>\n",
       "    <tr>\n",
       "      <th>France</th>\n",
       "      <td>7.95</td>\n",
       "      <td>23.86</td>\n",
       "      <td>39.77</td>\n",
       "      <td>28.41</td>\n",
       "      <td>88</td>\n",
       "    </tr>\n",
       "    <tr>\n",
       "      <th>Greece</th>\n",
       "      <td>7.69</td>\n",
       "      <td>7.69</td>\n",
       "      <td>30.77</td>\n",
       "      <td>53.85</td>\n",
       "      <td>13</td>\n",
       "    </tr>\n",
       "    <tr>\n",
       "      <th>Ireland</th>\n",
       "      <td>7.69</td>\n",
       "      <td>15.38</td>\n",
       "      <td>46.15</td>\n",
       "      <td>30.77</td>\n",
       "      <td>13</td>\n",
       "    </tr>\n",
       "    <tr>\n",
       "      <th>Austria</th>\n",
       "      <td>5.56</td>\n",
       "      <td>18.06</td>\n",
       "      <td>29.17</td>\n",
       "      <td>47.22</td>\n",
       "      <td>72</td>\n",
       "    </tr>\n",
       "    <tr>\n",
       "      <th>Germany</th>\n",
       "      <td>5.56</td>\n",
       "      <td>27.78</td>\n",
       "      <td>55.56</td>\n",
       "      <td>11.11</td>\n",
       "      <td>18</td>\n",
       "    </tr>\n",
       "    <tr>\n",
       "      <th>Italy</th>\n",
       "      <td>4.69</td>\n",
       "      <td>21.88</td>\n",
       "      <td>36.25</td>\n",
       "      <td>37.19</td>\n",
       "      <td>320</td>\n",
       "    </tr>\n",
       "    <tr>\n",
       "      <th>Spain</th>\n",
       "      <td>3.73</td>\n",
       "      <td>16.32</td>\n",
       "      <td>34.02</td>\n",
       "      <td>45.92</td>\n",
       "      <td>723</td>\n",
       "    </tr>\n",
       "    <tr>\n",
       "      <th>Switzerland</th>\n",
       "      <td>3.49</td>\n",
       "      <td>23.26</td>\n",
       "      <td>39.53</td>\n",
       "      <td>33.72</td>\n",
       "      <td>86</td>\n",
       "    </tr>\n",
       "    <tr>\n",
       "      <th>USA</th>\n",
       "      <td>1.72</td>\n",
       "      <td>15.52</td>\n",
       "      <td>31.03</td>\n",
       "      <td>51.72</td>\n",
       "      <td>58</td>\n",
       "    </tr>\n",
       "  </tbody>\n",
       "</table>\n",
       "</div>"
      ],
      "text/plain": [
       "                SUPER GOLD   GOLD  SILVER  BRONZE  TOTAL\n",
       "country                                                 \n",
       "Belgium              17.24  13.79   20.69   48.28     29\n",
       "Sweden               16.67  16.67   16.67   50.00      6\n",
       "Japan                14.29  21.43   21.43   42.86     14\n",
       "Canada               11.11  22.22   44.44   22.22      9\n",
       "Netherlands          10.00  18.75   27.50   43.75     80\n",
       "United Kingdom        9.41  16.47   27.06   47.06     85\n",
       "Portugal              8.70  17.39   26.09   47.83     23\n",
       "France                7.95  23.86   39.77   28.41     88\n",
       "Greece                7.69   7.69   30.77   53.85     13\n",
       "Ireland               7.69  15.38   46.15   30.77     13\n",
       "Austria               5.56  18.06   29.17   47.22     72\n",
       "Germany               5.56  27.78   55.56   11.11     18\n",
       "Italy                 4.69  21.88   36.25   37.19    320\n",
       "Spain                 3.73  16.32   34.02   45.92    723\n",
       "Switzerland           3.49  23.26   39.53   33.72     86\n",
       "USA                   1.72  15.52   31.03   51.72     58"
      ]
     },
     "execution_count": 482,
     "metadata": {},
     "output_type": "execute_result"
    }
   ],
   "source": [
    "per_top_all = top_all.copy()\n",
    "per_top_all.loc[:,:'BRONZE'] = (top_all.divide(top_all.TOTAL, axis=0) * 100).round(2)\n",
    "per_top_all.sort_values('SUPER GOLD', ascending=False)"
   ]
  },
  {
   "attachments": {},
   "cell_type": "markdown",
   "metadata": {},
   "source": [
    "*sight* We would argue that Ireland or Germany are not doing so great despite having less cheese.  \n",
    "But I agree on one point : just like the Olympics Games, we only based our ranking on the total number of obtained \"SUPER GOLD\".\n",
    "\n",
    "Few ideas :\n",
    "\n",
    "1. Do like schools (mostly western europe) to compute a final 'end of the semester' mark.  \n",
    "It consist in computing the mean of all obtained ratings and ponderating each rating type in the computation  \n",
    "Giving us : $$mark = {nSUPERGOLD*x + ... + nBRONZE*k \\over 4} $$\n",
    "\n",
    "2. Attribute a number of points for each type of rating and compute the total points.  \n",
    "This is nothing new, several ranking systems already exist for this kind of competition.\n",
    "See [here](https://www.topendsports.com/events/summer/medal-tally/rankings.htm#:~:text=The%20common%20method%20of%20determining,still%20no%20'official'%20method.) for more details.\n",
    "\n",
    "I'll go with the **Fibonacci weighted point system (4:3:2:1)**, you are free to choose one you like."
   ]
  },
  {
   "cell_type": "markdown",
   "metadata": {},
   "source": []
  },
  {
   "attachments": {},
   "cell_type": "markdown",
   "metadata": {},
   "source": [
    "Wait hold on, did we just questionned the entire ranking system of the Olympics Games ?  "
   ]
  }
 ],
 "metadata": {
  "kernelspec": {
   "display_name": "world-cheese-awards-analysis-3x3cSF_S-py3.11",
   "language": "python",
   "name": "python3"
  },
  "language_info": {
   "codemirror_mode": {
    "name": "ipython",
    "version": 3
   },
   "file_extension": ".py",
   "mimetype": "text/x-python",
   "name": "python",
   "nbconvert_exporter": "python",
   "pygments_lexer": "ipython3",
   "version": "3.11.0"
  },
  "orig_nbformat": 4,
  "vscode": {
   "interpreter": {
    "hash": "e7368a84c7707fbdb31f60a4eb23af055c2f2ad86f14353e5ed6501753f699bb"
   }
  }
 },
 "nbformat": 4,
 "nbformat_minor": 2
}
